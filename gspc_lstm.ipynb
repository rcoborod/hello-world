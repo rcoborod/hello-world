{
  "nbformat": 4,
  "nbformat_minor": 0,
  "metadata": {
    "colab": {
      "name": "gspc_lstm.ipynb",
      "provenance": [],
      "collapsed_sections": [],
      "authorship_tag": "ABX9TyNYYIid1lZbyWJ6JBw0YHBM",
      "include_colab_link": true
    },
    "kernelspec": {
      "name": "python3",
      "display_name": "Python 3"
    }
  },
  "cells": [
    {
      "cell_type": "markdown",
      "metadata": {
        "id": "view-in-github",
        "colab_type": "text"
      },
      "source": [
        "<a href=\"https://colab.research.google.com/github/rcoborod/hello-world/blob/preproceso-pandas/gspc_lstm.ipynb\" target=\"_parent\"><img src=\"https://colab.research.google.com/assets/colab-badge.svg\" alt=\"Open In Colab\"/></a>"
      ]
    },
    {
      "cell_type": "markdown",
      "metadata": {
        "id": "Zl9XyNpAkNS9",
        "colab_type": "text"
      },
      "source": [
        "# Imports in order of usage"
      ]
    },
    {
      "cell_type": "code",
      "metadata": {
        "id": "VdaIMmmVZgnu",
        "colab_type": "code",
        "colab": {}
      },
      "source": [
        "import tensorflow as tf\n",
        "import pathlib\n",
        "import os\n",
        "import matplotlib.pyplot as plt\n",
        "import pandas as pd\n",
        "import numpy as np\n",
        "import time\n",
        "np.set_printoptions(precision=4)"
      ],
      "execution_count": 0,
      "outputs": []
    },
    {
      "cell_type": "code",
      "metadata": {
        "id": "PT562USf2yRp",
        "colab_type": "code",
        "colab": {}
      },
      "source": [
        "class ArtificialDataset(tf.data.Dataset):\n",
        "    def _generator(num_samples):\n",
        "        # Opening the file\n",
        "        time.sleep(0.03)\n",
        "        \n",
        "        for sample_idx in range(num_samples):\n",
        "            # Reading data (line, record) from the file\n",
        "            time.sleep(0.015)\n",
        "            \n",
        "            yield (sample_idx,)\n",
        "    \n",
        "    def __new__(cls, num_samples=3):\n",
        "        return tf.data.Dataset.from_generator(\n",
        "            cls._generator,\n",
        "            output_types=tf.dtypes.int64,\n",
        "            output_shapes=(1,),\n",
        "            args=(num_samples,)\n",
        "        )"
      ],
      "execution_count": 0,
      "outputs": []
    },
    {
      "cell_type": "code",
      "metadata": {
        "id": "l14GQmoL3AzG",
        "colab_type": "code",
        "colab": {}
      },
      "source": [
        "def benchmark(dataset, num_epochs=2):\n",
        "    start_time = time.perf_counter()\n",
        "    for epoch_num in range(num_epochs):\n",
        "        for sample in dataset:\n",
        "            # Performing a training step\n",
        "            time.sleep(0.01)\n",
        "    tf.print(\"Execution time:\", time.perf_counter() - start_time)"
      ],
      "execution_count": 0,
      "outputs": []
    },
    {
      "cell_type": "code",
      "metadata": {
        "id": "YFG1q1lx3I2Y",
        "colab_type": "code",
        "outputId": "749bea35-1547-4713-c073-5c8ebd50c43f",
        "colab": {
          "base_uri": "https://localhost:8080/",
          "height": 34
        }
      },
      "source": [
        "benchmark(ArtificialDataset())"
      ],
      "execution_count": 0,
      "outputs": [
        {
          "output_type": "stream",
          "text": [
            "Execution time: 0.27628990200003045\n"
          ],
          "name": "stdout"
        }
      ]
    },
    {
      "cell_type": "code",
      "metadata": {
        "id": "BwqgEdpH4OKj",
        "colab_type": "code",
        "outputId": "8156ed51-719e-4c48-d109-79eb86a8d7af",
        "colab": {
          "base_uri": "https://localhost:8080/",
          "height": 34
        }
      },
      "source": [
        "benchmark(\n",
        "    ArtificialDataset()\n",
        "    .prefetch(tf.data.experimental.AUTOTUNE)\n",
        ")"
      ],
      "execution_count": 0,
      "outputs": [
        {
          "output_type": "stream",
          "text": [
            "Execution time: 0.19842139799993674\n"
          ],
          "name": "stdout"
        }
      ]
    },
    {
      "cell_type": "code",
      "metadata": {
        "id": "sYIIkN2t4UvT",
        "colab_type": "code",
        "outputId": "e817ef2c-682d-4cc4-8e12-0957ecc2c343",
        "colab": {
          "base_uri": "https://localhost:8080/",
          "height": 34
        }
      },
      "source": [
        "benchmark(\n",
        "    tf.data.Dataset.range(2)\n",
        "    .interleave(ArtificialDataset)\n",
        ")"
      ],
      "execution_count": 0,
      "outputs": [
        {
          "output_type": "stream",
          "text": [
            "Execution time: 0.20165198500001225\n"
          ],
          "name": "stdout"
        }
      ]
    },
    {
      "cell_type": "code",
      "metadata": {
        "id": "yNAGdz5N49dV",
        "colab_type": "code",
        "outputId": "512567e1-e416-4419-9617-016c4e085f0e",
        "colab": {
          "base_uri": "https://localhost:8080/",
          "height": 34
        }
      },
      "source": [
        "benchmark(\n",
        "    tf.data.Dataset.range(2)\n",
        "    .interleave(\n",
        "        ArtificialDataset,\n",
        "        num_parallel_calls=tf.data.experimental.AUTOTUNE\n",
        "    )\n",
        ")"
      ],
      "execution_count": 0,
      "outputs": [
        {
          "output_type": "stream",
          "text": [
            "Execution time: 0.13708040699998492\n"
          ],
          "name": "stdout"
        }
      ]
    },
    {
      "cell_type": "code",
      "metadata": {
        "id": "YWzern0a5M06",
        "colab_type": "code",
        "colab": {}
      },
      "source": [
        "def mapped_function(s):\n",
        "    # Do some hard pre-processing\n",
        "    tf.py_function(lambda: time.sleep(0.03), [], ())\n",
        "    return s"
      ],
      "execution_count": 0,
      "outputs": []
    },
    {
      "cell_type": "code",
      "metadata": {
        "id": "EgtzUpa95mNf",
        "colab_type": "code",
        "outputId": "d45caf5b-3d49-4051-d874-c27284937116",
        "colab": {
          "base_uri": "https://localhost:8080/",
          "height": 34
        }
      },
      "source": [
        "benchmark(\n",
        "    ArtificialDataset()\n",
        "    .map(mapped_function)\n",
        ")"
      ],
      "execution_count": 0,
      "outputs": [
        {
          "output_type": "stream",
          "text": [
            "Execution time: 0.41868719700005386\n"
          ],
          "name": "stdout"
        }
      ]
    },
    {
      "cell_type": "code",
      "metadata": {
        "id": "wKQxbufM5sTV",
        "colab_type": "code",
        "outputId": "a48f5fe9-b6be-461d-bcf5-a39f9d2ff3b0",
        "colab": {
          "base_uri": "https://localhost:8080/",
          "height": 34
        }
      },
      "source": [
        "benchmark(\n",
        "    ArtificialDataset()\n",
        "    .map(\n",
        "        mapped_function,\n",
        "        num_parallel_calls=tf.data.experimental.AUTOTUNE\n",
        "    )\n",
        ")"
      ],
      "execution_count": 0,
      "outputs": [
        {
          "output_type": "stream",
          "text": [
            "Execution time: 0.28568136499995944\n"
          ],
          "name": "stdout"
        }
      ]
    },
    {
      "cell_type": "code",
      "metadata": {
        "id": "yXSxEced56Po",
        "colab_type": "code",
        "outputId": "5b3102a1-2ed3-4356-9068-ab9178ae6e3f",
        "colab": {
          "base_uri": "https://localhost:8080/",
          "height": 34
        }
      },
      "source": [
        "benchmark(\n",
        "    ArtificialDataset()\n",
        "    .map(  # Apply time consuming operations before cache\n",
        "        mapped_function\n",
        "    ).cache(\n",
        "    ),\n",
        "    5\n",
        ")"
      ],
      "execution_count": 0,
      "outputs": [
        {
          "output_type": "stream",
          "text": [
            "Execution time: 0.371822186999907\n"
          ],
          "name": "stdout"
        }
      ]
    },
    {
      "cell_type": "code",
      "metadata": {
        "id": "h4h25hZa6MiP",
        "colab_type": "code",
        "colab": {}
      },
      "source": [
        "fast_dataset = tf.data.Dataset.range(10000)\n",
        "\n",
        "def fast_benchmark(dataset, num_epochs=2):\n",
        "    start_time = time.perf_counter()\n",
        "    for _ in tf.data.Dataset.range(num_epochs):\n",
        "        for _ in dataset:\n",
        "            pass\n",
        "    tf.print(\"Execution time:\", time.perf_counter() - start_time)\n",
        "    \n",
        "def increment(x):\n",
        "    return x+1"
      ],
      "execution_count": 0,
      "outputs": []
    },
    {
      "cell_type": "code",
      "metadata": {
        "id": "wMoAyr7z6pCA",
        "colab_type": "code",
        "outputId": "a6357de4-c8d1-4ea3-f643-8afc3b48a7e8",
        "colab": {
          "base_uri": "https://localhost:8080/",
          "height": 34
        }
      },
      "source": [
        "fast_benchmark(\n",
        "    fast_dataset\n",
        "    # Apply function one item at a time\n",
        "    .map(increment)\n",
        "    # Batch\n",
        "    .batch(256)\n",
        ")"
      ],
      "execution_count": 0,
      "outputs": [
        {
          "output_type": "stream",
          "text": [
            "Execution time: 0.8778390250001848\n"
          ],
          "name": "stdout"
        }
      ]
    },
    {
      "cell_type": "code",
      "metadata": {
        "id": "lePV6IFI6vrz",
        "colab_type": "code",
        "outputId": "cf4c01cb-d8cb-4d34-84e1-4261272704dd",
        "colab": {
          "base_uri": "https://localhost:8080/",
          "height": 34
        }
      },
      "source": [
        "fast_benchmark(\n",
        "    fast_dataset\n",
        "    .batch(256)\n",
        "    # Apply function on a batch of items\n",
        "    # The tf.Tensor.__add__ method already handle batches\n",
        "    .map(increment)\n",
        ")"
      ],
      "execution_count": 0,
      "outputs": [
        {
          "output_type": "stream",
          "text": [
            "Execution time: 0.0409990299999663\n"
          ],
          "name": "stdout"
        }
      ]
    },
    {
      "cell_type": "code",
      "metadata": {
        "id": "Kj-iG8mM66bQ",
        "colab_type": "code",
        "outputId": "b9fe5e11-e470-453a-b6ea-a1c0c2f8a199",
        "colab": {
          "base_uri": "https://localhost:8080/",
          "height": 167
        }
      },
      "source": [
        "dataset.map(time_consuming_mapping).cache().map(memory_consuming_mapping)"
      ],
      "execution_count": 0,
      "outputs": [
        {
          "output_type": "error",
          "ename": "NameError",
          "evalue": "ignored",
          "traceback": [
            "\u001b[0;31m---------------------------------------------------------------------------\u001b[0m",
            "\u001b[0;31mNameError\u001b[0m                                 Traceback (most recent call last)",
            "\u001b[0;32m<ipython-input-15-de4e908f8072>\u001b[0m in \u001b[0;36m<module>\u001b[0;34m()\u001b[0m\n\u001b[0;32m----> 1\u001b[0;31m \u001b[0mdataset\u001b[0m\u001b[0;34m.\u001b[0m\u001b[0mmap\u001b[0m\u001b[0;34m(\u001b[0m\u001b[0mtime_consuming_mapping\u001b[0m\u001b[0;34m)\u001b[0m\u001b[0;34m.\u001b[0m\u001b[0mcache\u001b[0m\u001b[0;34m(\u001b[0m\u001b[0;34m)\u001b[0m\u001b[0;34m.\u001b[0m\u001b[0mmap\u001b[0m\u001b[0;34m(\u001b[0m\u001b[0mmemory_consuming_mapping\u001b[0m\u001b[0;34m)\u001b[0m\u001b[0;34m\u001b[0m\u001b[0;34m\u001b[0m\u001b[0m\n\u001b[0m",
            "\u001b[0;31mNameError\u001b[0m: name 'dataset' is not defined"
          ]
        }
      ]
    },
    {
      "cell_type": "code",
      "metadata": {
        "id": "Kk4KEiYj7eHr",
        "colab_type": "code",
        "colab": {}
      },
      "source": [
        ""
      ],
      "execution_count": 0,
      "outputs": []
    },
    {
      "cell_type": "code",
      "metadata": {
        "id": "RY7eq-zXk9oO",
        "colab_type": "code",
        "outputId": "c45546cb-7325-4690-ef04-ab1d42afacd6",
        "colab": {
          "base_uri": "https://localhost:8080/",
          "height": 34
        }
      },
      "source": [
        "dataset = tf.data.Dataset.from_tensor_slices([8,3,0,8,2,1])\n",
        "dataset"
      ],
      "execution_count": 0,
      "outputs": [
        {
          "output_type": "execute_result",
          "data": {
            "text/plain": [
              "<TensorSliceDataset shapes: (), types: tf.int32>"
            ]
          },
          "metadata": {
            "tags": []
          },
          "execution_count": 2
        }
      ]
    },
    {
      "cell_type": "code",
      "metadata": {
        "id": "79GtOuNplh-_",
        "colab_type": "code",
        "outputId": "d4e0df2a-840b-44f2-ea25-42c74dbbbce5",
        "colab": {
          "base_uri": "https://localhost:8080/",
          "height": 122
        }
      },
      "source": [
        "for elem in dataset:\n",
        "  print( elem.numpy())"
      ],
      "execution_count": 0,
      "outputs": [
        {
          "output_type": "stream",
          "text": [
            "8\n",
            "3\n",
            "0\n",
            "8\n",
            "2\n",
            "1\n"
          ],
          "name": "stdout"
        }
      ]
    },
    {
      "cell_type": "code",
      "metadata": {
        "id": "x_GacQRb-qgW",
        "colab_type": "code",
        "outputId": "c841c48b-645c-4c50-b531-858e0a410f82",
        "colab": {
          "base_uri": "https://localhost:8080/",
          "height": 72
        }
      },
      "source": [
        "url=\"https://query1.finance.yahoo.com/v7/finance/download/%5EGSPC?period1=-252460800&period2=1588896000&interval=1d&events=history\"\n",
        "gspc_file = tf.keras.utils.get_file(\"gspc.csv\", url)"
      ],
      "execution_count": 0,
      "outputs": [
        {
          "output_type": "stream",
          "text": [
            "Downloading data from https://query1.finance.yahoo.com/v7/finance/download/%5EGSPC?period1=-252460800&period2=1588896000&interval=1d&events=history\n",
            " 770048/Unknown - 0s 0us/step"
          ],
          "name": "stdout"
        }
      ]
    },
    {
      "cell_type": "code",
      "metadata": {
        "id": "XbfxG3zi-6nb",
        "colab_type": "code",
        "outputId": "f7a1297d-1f49-4767-ca1f-d39046f936e7",
        "colab": {
          "base_uri": "https://localhost:8080/",
          "height": 440
        }
      },
      "source": [
        "df = pd.read_csv(gspc_file, index_col='Date')\n",
        "df"
      ],
      "execution_count": 0,
      "outputs": [
        {
          "output_type": "execute_result",
          "data": {
            "text/html": [
              "<div>\n",
              "<style scoped>\n",
              "    .dataframe tbody tr th:only-of-type {\n",
              "        vertical-align: middle;\n",
              "    }\n",
              "\n",
              "    .dataframe tbody tr th {\n",
              "        vertical-align: top;\n",
              "    }\n",
              "\n",
              "    .dataframe thead th {\n",
              "        text-align: right;\n",
              "    }\n",
              "</style>\n",
              "<table border=\"1\" class=\"dataframe\">\n",
              "  <thead>\n",
              "    <tr style=\"text-align: right;\">\n",
              "      <th></th>\n",
              "      <th>Open</th>\n",
              "      <th>High</th>\n",
              "      <th>Low</th>\n",
              "      <th>Close</th>\n",
              "      <th>Adj Close</th>\n",
              "      <th>Volume</th>\n",
              "    </tr>\n",
              "    <tr>\n",
              "      <th>Date</th>\n",
              "      <th></th>\n",
              "      <th></th>\n",
              "      <th></th>\n",
              "      <th></th>\n",
              "      <th></th>\n",
              "      <th></th>\n",
              "    </tr>\n",
              "  </thead>\n",
              "  <tbody>\n",
              "    <tr>\n",
              "      <th>1962-01-02</th>\n",
              "      <td>71.550003</td>\n",
              "      <td>71.959999</td>\n",
              "      <td>70.709999</td>\n",
              "      <td>70.959999</td>\n",
              "      <td>70.959999</td>\n",
              "      <td>3120000</td>\n",
              "    </tr>\n",
              "    <tr>\n",
              "      <th>1962-01-03</th>\n",
              "      <td>70.959999</td>\n",
              "      <td>71.480003</td>\n",
              "      <td>70.379997</td>\n",
              "      <td>71.129997</td>\n",
              "      <td>71.129997</td>\n",
              "      <td>3590000</td>\n",
              "    </tr>\n",
              "    <tr>\n",
              "      <th>1962-01-04</th>\n",
              "      <td>71.129997</td>\n",
              "      <td>71.620003</td>\n",
              "      <td>70.449997</td>\n",
              "      <td>70.639999</td>\n",
              "      <td>70.639999</td>\n",
              "      <td>4450000</td>\n",
              "    </tr>\n",
              "    <tr>\n",
              "      <th>1962-01-05</th>\n",
              "      <td>70.639999</td>\n",
              "      <td>70.839996</td>\n",
              "      <td>69.349998</td>\n",
              "      <td>69.660004</td>\n",
              "      <td>69.660004</td>\n",
              "      <td>4630000</td>\n",
              "    </tr>\n",
              "    <tr>\n",
              "      <th>1962-01-08</th>\n",
              "      <td>69.660004</td>\n",
              "      <td>69.839996</td>\n",
              "      <td>68.169998</td>\n",
              "      <td>69.120003</td>\n",
              "      <td>69.120003</td>\n",
              "      <td>4620000</td>\n",
              "    </tr>\n",
              "    <tr>\n",
              "      <th>...</th>\n",
              "      <td>...</td>\n",
              "      <td>...</td>\n",
              "      <td>...</td>\n",
              "      <td>...</td>\n",
              "      <td>...</td>\n",
              "      <td>...</td>\n",
              "    </tr>\n",
              "    <tr>\n",
              "      <th>2020-05-01</th>\n",
              "      <td>2869.090088</td>\n",
              "      <td>2869.090088</td>\n",
              "      <td>2821.610107</td>\n",
              "      <td>2830.709961</td>\n",
              "      <td>2830.709961</td>\n",
              "      <td>4753160000</td>\n",
              "    </tr>\n",
              "    <tr>\n",
              "      <th>2020-05-04</th>\n",
              "      <td>2815.010010</td>\n",
              "      <td>2844.239990</td>\n",
              "      <td>2797.850098</td>\n",
              "      <td>2842.739990</td>\n",
              "      <td>2842.739990</td>\n",
              "      <td>4723140000</td>\n",
              "    </tr>\n",
              "    <tr>\n",
              "      <th>2020-05-05</th>\n",
              "      <td>2868.879883</td>\n",
              "      <td>2898.229980</td>\n",
              "      <td>2863.550049</td>\n",
              "      <td>2868.439941</td>\n",
              "      <td>2868.439941</td>\n",
              "      <td>5129590000</td>\n",
              "    </tr>\n",
              "    <tr>\n",
              "      <th>2020-05-06</th>\n",
              "      <td>2883.139893</td>\n",
              "      <td>2891.110107</td>\n",
              "      <td>2847.649902</td>\n",
              "      <td>2848.419922</td>\n",
              "      <td>2848.419922</td>\n",
              "      <td>4861920000</td>\n",
              "    </tr>\n",
              "    <tr>\n",
              "      <th>2020-05-07</th>\n",
              "      <td>2878.260010</td>\n",
              "      <td>2901.919922</td>\n",
              "      <td>2876.479980</td>\n",
              "      <td>2881.189941</td>\n",
              "      <td>2881.189941</td>\n",
              "      <td>5164640000</td>\n",
              "    </tr>\n",
              "  </tbody>\n",
              "</table>\n",
              "<p>14688 rows × 6 columns</p>\n",
              "</div>"
            ],
            "text/plain": [
              "                   Open         High  ...    Adj Close      Volume\n",
              "Date                                  ...                         \n",
              "1962-01-02    71.550003    71.959999  ...    70.959999     3120000\n",
              "1962-01-03    70.959999    71.480003  ...    71.129997     3590000\n",
              "1962-01-04    71.129997    71.620003  ...    70.639999     4450000\n",
              "1962-01-05    70.639999    70.839996  ...    69.660004     4630000\n",
              "1962-01-08    69.660004    69.839996  ...    69.120003     4620000\n",
              "...                 ...          ...  ...          ...         ...\n",
              "2020-05-01  2869.090088  2869.090088  ...  2830.709961  4753160000\n",
              "2020-05-04  2815.010010  2844.239990  ...  2842.739990  4723140000\n",
              "2020-05-05  2868.879883  2898.229980  ...  2868.439941  5129590000\n",
              "2020-05-06  2883.139893  2891.110107  ...  2848.419922  4861920000\n",
              "2020-05-07  2878.260010  2901.919922  ...  2881.189941  5164640000\n",
              "\n",
              "[14688 rows x 6 columns]"
            ]
          },
          "metadata": {
            "tags": []
          },
          "execution_count": 6
        }
      ]
    },
    {
      "cell_type": "code",
      "metadata": {
        "id": "f-fBPhZIBKfe",
        "colab_type": "code",
        "outputId": "83f8dd1a-e5fe-42a1-e2b9-37ffc1095bf4",
        "colab": {
          "base_uri": "https://localhost:8080/",
          "height": 122
        }
      },
      "source": [
        "gspc_slices = tf.data.Dataset.from_tensor_slices(dict(df))\n",
        "\n",
        "for feature_batch in gspc_slices.take(1):\n",
        "  for key, value in feature_batch.items():\n",
        "    print(\"  {!r:20s}: {}\".format(key, value))"
      ],
      "execution_count": 0,
      "outputs": [
        {
          "output_type": "stream",
          "text": [
            "  'Open'              : 71.550003\n",
            "  'High'              : 71.959999\n",
            "  'Low'               : 70.709999\n",
            "  'Close'             : 70.959999\n",
            "  'Adj Close'         : 70.959999\n",
            "  'Volume'            : 3120000\n"
          ],
          "name": "stdout"
        }
      ]
    },
    {
      "cell_type": "code",
      "metadata": {
        "id": "U3AHaGL7CCbM",
        "colab_type": "code",
        "colab": {}
      },
      "source": [
        "gspc_batches = tf.data.experimental.make_csv_dataset(\n",
        "    gspc_file, batch_size=4,\n",
        "    label_name=\"Close\")"
      ],
      "execution_count": 0,
      "outputs": []
    },
    {
      "cell_type": "code",
      "metadata": {
        "id": "VyxIHH8YCZHS",
        "colab_type": "code",
        "outputId": "81c04fc3-88b4-48e9-c43a-9fcf65b6b798",
        "colab": {
          "base_uri": "https://localhost:8080/",
          "height": 437
        }
      },
      "source": [
        "for feature_batch, label_batch in gspc_batches.take(1):\n",
        "  print(\"'Close': {}\".format(label_batch))\n",
        "  print(\"features:\")\n",
        "  for key, value in feature_batch.items():\n",
        "    print(\"  {!r:20s}: {}\".format(key, value))"
      ],
      "execution_count": 0,
      "outputs": [
        {
          "output_type": "error",
          "ename": "InvalidArgumentError",
          "evalue": "ignored",
          "traceback": [
            "\u001b[0;31m---------------------------------------------------------------------------\u001b[0m",
            "\u001b[0;31mInvalidArgumentError\u001b[0m                      Traceback (most recent call last)",
            "\u001b[0;32m/usr/local/lib/python3.6/dist-packages/tensorflow/python/eager/context.py\u001b[0m in \u001b[0;36mexecution_mode\u001b[0;34m(mode)\u001b[0m\n\u001b[1;32m   1985\u001b[0m       \u001b[0mctx\u001b[0m\u001b[0;34m.\u001b[0m\u001b[0mexecutor\u001b[0m \u001b[0;34m=\u001b[0m \u001b[0mexecutor_new\u001b[0m\u001b[0;34m\u001b[0m\u001b[0;34m\u001b[0m\u001b[0m\n\u001b[0;32m-> 1986\u001b[0;31m       \u001b[0;32myield\u001b[0m\u001b[0;34m\u001b[0m\u001b[0;34m\u001b[0m\u001b[0m\n\u001b[0m\u001b[1;32m   1987\u001b[0m     \u001b[0;32mfinally\u001b[0m\u001b[0;34m:\u001b[0m\u001b[0;34m\u001b[0m\u001b[0;34m\u001b[0m\u001b[0m\n",
            "\u001b[0;32m/usr/local/lib/python3.6/dist-packages/tensorflow/python/data/ops/iterator_ops.py\u001b[0m in \u001b[0;36m_next_internal\u001b[0;34m(self)\u001b[0m\n\u001b[1;32m    654\u001b[0m             \u001b[0moutput_types\u001b[0m\u001b[0;34m=\u001b[0m\u001b[0mself\u001b[0m\u001b[0;34m.\u001b[0m\u001b[0m_flat_output_types\u001b[0m\u001b[0;34m,\u001b[0m\u001b[0;34m\u001b[0m\u001b[0;34m\u001b[0m\u001b[0m\n\u001b[0;32m--> 655\u001b[0;31m             output_shapes=self._flat_output_shapes)\n\u001b[0m\u001b[1;32m    656\u001b[0m \u001b[0;34m\u001b[0m\u001b[0m\n",
            "\u001b[0;32m/usr/local/lib/python3.6/dist-packages/tensorflow/python/ops/gen_dataset_ops.py\u001b[0m in \u001b[0;36miterator_get_next\u001b[0;34m(iterator, output_types, output_shapes, name)\u001b[0m\n\u001b[1;32m   2362\u001b[0m     \u001b[0;32mexcept\u001b[0m \u001b[0m_core\u001b[0m\u001b[0;34m.\u001b[0m\u001b[0m_NotOkStatusException\u001b[0m \u001b[0;32mas\u001b[0m \u001b[0me\u001b[0m\u001b[0;34m:\u001b[0m\u001b[0;34m\u001b[0m\u001b[0;34m\u001b[0m\u001b[0m\n\u001b[0;32m-> 2363\u001b[0;31m       \u001b[0m_ops\u001b[0m\u001b[0;34m.\u001b[0m\u001b[0mraise_from_not_ok_status\u001b[0m\u001b[0;34m(\u001b[0m\u001b[0me\u001b[0m\u001b[0;34m,\u001b[0m \u001b[0mname\u001b[0m\u001b[0;34m)\u001b[0m\u001b[0;34m\u001b[0m\u001b[0;34m\u001b[0m\u001b[0m\n\u001b[0m\u001b[1;32m   2364\u001b[0m   \u001b[0;31m# Add nodes to the TensorFlow graph.\u001b[0m\u001b[0;34m\u001b[0m\u001b[0;34m\u001b[0m\u001b[0;34m\u001b[0m\u001b[0m\n",
            "\u001b[0;32m/usr/local/lib/python3.6/dist-packages/tensorflow/python/framework/ops.py\u001b[0m in \u001b[0;36mraise_from_not_ok_status\u001b[0;34m(e, name)\u001b[0m\n\u001b[1;32m   6652\u001b[0m   \u001b[0;31m# pylint: disable=protected-access\u001b[0m\u001b[0;34m\u001b[0m\u001b[0;34m\u001b[0m\u001b[0;34m\u001b[0m\u001b[0m\n\u001b[0;32m-> 6653\u001b[0;31m   \u001b[0msix\u001b[0m\u001b[0;34m.\u001b[0m\u001b[0mraise_from\u001b[0m\u001b[0;34m(\u001b[0m\u001b[0mcore\u001b[0m\u001b[0;34m.\u001b[0m\u001b[0m_status_to_exception\u001b[0m\u001b[0;34m(\u001b[0m\u001b[0me\u001b[0m\u001b[0;34m.\u001b[0m\u001b[0mcode\u001b[0m\u001b[0;34m,\u001b[0m \u001b[0mmessage\u001b[0m\u001b[0;34m)\u001b[0m\u001b[0;34m,\u001b[0m \u001b[0;32mNone\u001b[0m\u001b[0;34m)\u001b[0m\u001b[0;34m\u001b[0m\u001b[0;34m\u001b[0m\u001b[0m\n\u001b[0m\u001b[1;32m   6654\u001b[0m   \u001b[0;31m# pylint: enable=protected-access\u001b[0m\u001b[0;34m\u001b[0m\u001b[0;34m\u001b[0m\u001b[0;34m\u001b[0m\u001b[0m\n",
            "\u001b[0;32m/usr/local/lib/python3.6/dist-packages/six.py\u001b[0m in \u001b[0;36mraise_from\u001b[0;34m(value, from_value)\u001b[0m\n",
            "\u001b[0;31mInvalidArgumentError\u001b[0m: Field 6 in record is not a valid int32: 2330830000 [Op:IteratorGetNext]",
            "\nDuring handling of the above exception, another exception occurred:\n",
            "\u001b[0;31mInvalidArgumentError\u001b[0m                      Traceback (most recent call last)",
            "\u001b[0;32m<ipython-input-26-a89404197f6e>\u001b[0m in \u001b[0;36m<module>\u001b[0;34m()\u001b[0m\n\u001b[0;32m----> 1\u001b[0;31m \u001b[0;32mfor\u001b[0m \u001b[0mfeature_batch\u001b[0m\u001b[0;34m,\u001b[0m \u001b[0mlabel_batch\u001b[0m \u001b[0;32min\u001b[0m \u001b[0mgspc_batches\u001b[0m\u001b[0;34m.\u001b[0m\u001b[0mtake\u001b[0m\u001b[0;34m(\u001b[0m\u001b[0;36m1\u001b[0m\u001b[0;34m)\u001b[0m\u001b[0;34m:\u001b[0m\u001b[0;34m\u001b[0m\u001b[0;34m\u001b[0m\u001b[0m\n\u001b[0m\u001b[1;32m      2\u001b[0m   \u001b[0mprint\u001b[0m\u001b[0;34m(\u001b[0m\u001b[0;34m\"'Close': {}\"\u001b[0m\u001b[0;34m.\u001b[0m\u001b[0mformat\u001b[0m\u001b[0;34m(\u001b[0m\u001b[0mlabel_batch\u001b[0m\u001b[0;34m)\u001b[0m\u001b[0;34m)\u001b[0m\u001b[0;34m\u001b[0m\u001b[0;34m\u001b[0m\u001b[0m\n\u001b[1;32m      3\u001b[0m   \u001b[0mprint\u001b[0m\u001b[0;34m(\u001b[0m\u001b[0;34m\"features:\"\u001b[0m\u001b[0;34m)\u001b[0m\u001b[0;34m\u001b[0m\u001b[0;34m\u001b[0m\u001b[0m\n\u001b[1;32m      4\u001b[0m   \u001b[0;32mfor\u001b[0m \u001b[0mkey\u001b[0m\u001b[0;34m,\u001b[0m \u001b[0mvalue\u001b[0m \u001b[0;32min\u001b[0m \u001b[0mfeature_batch\u001b[0m\u001b[0;34m.\u001b[0m\u001b[0mitems\u001b[0m\u001b[0;34m(\u001b[0m\u001b[0;34m)\u001b[0m\u001b[0;34m:\u001b[0m\u001b[0;34m\u001b[0m\u001b[0;34m\u001b[0m\u001b[0m\n\u001b[1;32m      5\u001b[0m     \u001b[0mprint\u001b[0m\u001b[0;34m(\u001b[0m\u001b[0;34m\"  {!r:20s}: {}\"\u001b[0m\u001b[0;34m.\u001b[0m\u001b[0mformat\u001b[0m\u001b[0;34m(\u001b[0m\u001b[0mkey\u001b[0m\u001b[0;34m,\u001b[0m \u001b[0mvalue\u001b[0m\u001b[0;34m)\u001b[0m\u001b[0;34m)\u001b[0m\u001b[0;34m\u001b[0m\u001b[0;34m\u001b[0m\u001b[0m\n",
            "\u001b[0;32m/usr/local/lib/python3.6/dist-packages/tensorflow/python/data/ops/iterator_ops.py\u001b[0m in \u001b[0;36m__next__\u001b[0;34m(self)\u001b[0m\n\u001b[1;32m    629\u001b[0m \u001b[0;34m\u001b[0m\u001b[0m\n\u001b[1;32m    630\u001b[0m   \u001b[0;32mdef\u001b[0m \u001b[0m__next__\u001b[0m\u001b[0;34m(\u001b[0m\u001b[0mself\u001b[0m\u001b[0;34m)\u001b[0m\u001b[0;34m:\u001b[0m  \u001b[0;31m# For Python 3 compatibility\u001b[0m\u001b[0;34m\u001b[0m\u001b[0;34m\u001b[0m\u001b[0m\n\u001b[0;32m--> 631\u001b[0;31m     \u001b[0;32mreturn\u001b[0m \u001b[0mself\u001b[0m\u001b[0;34m.\u001b[0m\u001b[0mnext\u001b[0m\u001b[0;34m(\u001b[0m\u001b[0;34m)\u001b[0m\u001b[0;34m\u001b[0m\u001b[0;34m\u001b[0m\u001b[0m\n\u001b[0m\u001b[1;32m    632\u001b[0m \u001b[0;34m\u001b[0m\u001b[0m\n\u001b[1;32m    633\u001b[0m   \u001b[0;32mdef\u001b[0m \u001b[0m_next_internal\u001b[0m\u001b[0;34m(\u001b[0m\u001b[0mself\u001b[0m\u001b[0;34m)\u001b[0m\u001b[0;34m:\u001b[0m\u001b[0;34m\u001b[0m\u001b[0;34m\u001b[0m\u001b[0m\n",
            "\u001b[0;32m/usr/local/lib/python3.6/dist-packages/tensorflow/python/data/ops/iterator_ops.py\u001b[0m in \u001b[0;36mnext\u001b[0;34m(self)\u001b[0m\n\u001b[1;32m    668\u001b[0m     \u001b[0;34m\"\"\"Returns a nested structure of `Tensor`s containing the next element.\"\"\"\u001b[0m\u001b[0;34m\u001b[0m\u001b[0;34m\u001b[0m\u001b[0m\n\u001b[1;32m    669\u001b[0m     \u001b[0;32mtry\u001b[0m\u001b[0;34m:\u001b[0m\u001b[0;34m\u001b[0m\u001b[0;34m\u001b[0m\u001b[0m\n\u001b[0;32m--> 670\u001b[0;31m       \u001b[0;32mreturn\u001b[0m \u001b[0mself\u001b[0m\u001b[0;34m.\u001b[0m\u001b[0m_next_internal\u001b[0m\u001b[0;34m(\u001b[0m\u001b[0;34m)\u001b[0m\u001b[0;34m\u001b[0m\u001b[0;34m\u001b[0m\u001b[0m\n\u001b[0m\u001b[1;32m    671\u001b[0m     \u001b[0;32mexcept\u001b[0m \u001b[0merrors\u001b[0m\u001b[0;34m.\u001b[0m\u001b[0mOutOfRangeError\u001b[0m\u001b[0;34m:\u001b[0m\u001b[0;34m\u001b[0m\u001b[0;34m\u001b[0m\u001b[0m\n\u001b[1;32m    672\u001b[0m       \u001b[0;32mraise\u001b[0m \u001b[0mStopIteration\u001b[0m\u001b[0;34m\u001b[0m\u001b[0;34m\u001b[0m\u001b[0m\n",
            "\u001b[0;32m/usr/local/lib/python3.6/dist-packages/tensorflow/python/data/ops/iterator_ops.py\u001b[0m in \u001b[0;36m_next_internal\u001b[0;34m(self)\u001b[0m\n\u001b[1;32m    659\u001b[0m         \u001b[0;32mreturn\u001b[0m \u001b[0mself\u001b[0m\u001b[0;34m.\u001b[0m\u001b[0m_element_spec\u001b[0m\u001b[0;34m.\u001b[0m\u001b[0m_from_compatible_tensor_list\u001b[0m\u001b[0;34m(\u001b[0m\u001b[0mret\u001b[0m\u001b[0;34m)\u001b[0m  \u001b[0;31m# pylint: disable=protected-access\u001b[0m\u001b[0;34m\u001b[0m\u001b[0;34m\u001b[0m\u001b[0m\n\u001b[1;32m    660\u001b[0m       \u001b[0;32mexcept\u001b[0m \u001b[0mAttributeError\u001b[0m\u001b[0;34m:\u001b[0m\u001b[0;34m\u001b[0m\u001b[0;34m\u001b[0m\u001b[0m\n\u001b[0;32m--> 661\u001b[0;31m         \u001b[0;32mreturn\u001b[0m \u001b[0mstructure\u001b[0m\u001b[0;34m.\u001b[0m\u001b[0mfrom_compatible_tensor_list\u001b[0m\u001b[0;34m(\u001b[0m\u001b[0mself\u001b[0m\u001b[0;34m.\u001b[0m\u001b[0m_element_spec\u001b[0m\u001b[0;34m,\u001b[0m \u001b[0mret\u001b[0m\u001b[0;34m)\u001b[0m\u001b[0;34m\u001b[0m\u001b[0;34m\u001b[0m\u001b[0m\n\u001b[0m\u001b[1;32m    662\u001b[0m \u001b[0;34m\u001b[0m\u001b[0m\n\u001b[1;32m    663\u001b[0m   \u001b[0;34m@\u001b[0m\u001b[0mproperty\u001b[0m\u001b[0;34m\u001b[0m\u001b[0;34m\u001b[0m\u001b[0m\n",
            "\u001b[0;32m/usr/lib/python3.6/contextlib.py\u001b[0m in \u001b[0;36m__exit__\u001b[0;34m(self, type, value, traceback)\u001b[0m\n\u001b[1;32m     97\u001b[0m                 \u001b[0mvalue\u001b[0m \u001b[0;34m=\u001b[0m \u001b[0mtype\u001b[0m\u001b[0;34m(\u001b[0m\u001b[0;34m)\u001b[0m\u001b[0;34m\u001b[0m\u001b[0;34m\u001b[0m\u001b[0m\n\u001b[1;32m     98\u001b[0m             \u001b[0;32mtry\u001b[0m\u001b[0;34m:\u001b[0m\u001b[0;34m\u001b[0m\u001b[0;34m\u001b[0m\u001b[0m\n\u001b[0;32m---> 99\u001b[0;31m                 \u001b[0mself\u001b[0m\u001b[0;34m.\u001b[0m\u001b[0mgen\u001b[0m\u001b[0;34m.\u001b[0m\u001b[0mthrow\u001b[0m\u001b[0;34m(\u001b[0m\u001b[0mtype\u001b[0m\u001b[0;34m,\u001b[0m \u001b[0mvalue\u001b[0m\u001b[0;34m,\u001b[0m \u001b[0mtraceback\u001b[0m\u001b[0;34m)\u001b[0m\u001b[0;34m\u001b[0m\u001b[0;34m\u001b[0m\u001b[0m\n\u001b[0m\u001b[1;32m    100\u001b[0m             \u001b[0;32mexcept\u001b[0m \u001b[0mStopIteration\u001b[0m \u001b[0;32mas\u001b[0m \u001b[0mexc\u001b[0m\u001b[0;34m:\u001b[0m\u001b[0;34m\u001b[0m\u001b[0;34m\u001b[0m\u001b[0m\n\u001b[1;32m    101\u001b[0m                 \u001b[0;31m# Suppress StopIteration *unless* it's the same exception that\u001b[0m\u001b[0;34m\u001b[0m\u001b[0;34m\u001b[0m\u001b[0;34m\u001b[0m\u001b[0m\n",
            "\u001b[0;32m/usr/local/lib/python3.6/dist-packages/tensorflow/python/eager/context.py\u001b[0m in \u001b[0;36mexecution_mode\u001b[0;34m(mode)\u001b[0m\n\u001b[1;32m   1987\u001b[0m     \u001b[0;32mfinally\u001b[0m\u001b[0;34m:\u001b[0m\u001b[0;34m\u001b[0m\u001b[0;34m\u001b[0m\u001b[0m\n\u001b[1;32m   1988\u001b[0m       \u001b[0mctx\u001b[0m\u001b[0;34m.\u001b[0m\u001b[0mexecutor\u001b[0m \u001b[0;34m=\u001b[0m \u001b[0mexecutor_old\u001b[0m\u001b[0;34m\u001b[0m\u001b[0;34m\u001b[0m\u001b[0m\n\u001b[0;32m-> 1989\u001b[0;31m       \u001b[0mexecutor_new\u001b[0m\u001b[0;34m.\u001b[0m\u001b[0mwait\u001b[0m\u001b[0;34m(\u001b[0m\u001b[0;34m)\u001b[0m\u001b[0;34m\u001b[0m\u001b[0;34m\u001b[0m\u001b[0m\n\u001b[0m\u001b[1;32m   1990\u001b[0m \u001b[0;34m\u001b[0m\u001b[0m\n\u001b[1;32m   1991\u001b[0m \u001b[0;34m\u001b[0m\u001b[0m\n",
            "\u001b[0;32m/usr/local/lib/python3.6/dist-packages/tensorflow/python/eager/executor.py\u001b[0m in \u001b[0;36mwait\u001b[0;34m(self)\u001b[0m\n\u001b[1;32m     65\u001b[0m   \u001b[0;32mdef\u001b[0m \u001b[0mwait\u001b[0m\u001b[0;34m(\u001b[0m\u001b[0mself\u001b[0m\u001b[0;34m)\u001b[0m\u001b[0;34m:\u001b[0m\u001b[0;34m\u001b[0m\u001b[0;34m\u001b[0m\u001b[0m\n\u001b[1;32m     66\u001b[0m     \u001b[0;34m\"\"\"Waits for ops dispatched in this executor to finish.\"\"\"\u001b[0m\u001b[0;34m\u001b[0m\u001b[0;34m\u001b[0m\u001b[0m\n\u001b[0;32m---> 67\u001b[0;31m     \u001b[0mpywrap_tfe\u001b[0m\u001b[0;34m.\u001b[0m\u001b[0mTFE_ExecutorWaitForAllPendingNodes\u001b[0m\u001b[0;34m(\u001b[0m\u001b[0mself\u001b[0m\u001b[0;34m.\u001b[0m\u001b[0m_handle\u001b[0m\u001b[0;34m)\u001b[0m\u001b[0;34m\u001b[0m\u001b[0;34m\u001b[0m\u001b[0m\n\u001b[0m\u001b[1;32m     68\u001b[0m \u001b[0;34m\u001b[0m\u001b[0m\n\u001b[1;32m     69\u001b[0m   \u001b[0;32mdef\u001b[0m \u001b[0mclear_error\u001b[0m\u001b[0;34m(\u001b[0m\u001b[0mself\u001b[0m\u001b[0;34m)\u001b[0m\u001b[0;34m:\u001b[0m\u001b[0;34m\u001b[0m\u001b[0;34m\u001b[0m\u001b[0m\n",
            "\u001b[0;31mInvalidArgumentError\u001b[0m: Field 6 in record is not a valid int32: 2330830000"
          ]
        }
      ]
    },
    {
      "cell_type": "code",
      "metadata": {
        "id": "D5anlnL-EWDW",
        "colab_type": "code",
        "outputId": "6882313c-5f03-4371-c175-2d768b1f5243",
        "colab": {
          "base_uri": "https://localhost:8080/",
          "height": 193
        }
      },
      "source": [
        "gspc_types  = [tf.string, tf.float32,tf.float32,tf.float32,tf.float32,tf.float32, tf.int32] \n",
        "dataset = tf.data.experimental.CsvDataset(gspc_file, gspc_types , header=True)\n",
        "\n",
        "for line in dataset.take(10):\n",
        "  print([item.numpy() for item in line])"
      ],
      "execution_count": 0,
      "outputs": [
        {
          "output_type": "stream",
          "text": [
            "[b'1962-01-02', 71.55, 71.96, 70.71, 70.96, 70.96, 3120000]\n",
            "[b'1962-01-03', 70.96, 71.48, 70.38, 71.13, 71.13, 3590000]\n",
            "[b'1962-01-04', 71.13, 71.62, 70.45, 70.64, 70.64, 4450000]\n",
            "[b'1962-01-05', 70.64, 70.84, 69.35, 69.66, 69.66, 4630000]\n",
            "[b'1962-01-08', 69.66, 69.84, 68.17, 69.12, 69.12, 4620000]\n",
            "[b'1962-01-09', 69.12, 69.93, 68.83, 69.15, 69.15, 3600000]\n",
            "[b'1962-01-10', 69.15, 69.58, 68.62, 68.96, 68.96, 3300000]\n",
            "[b'1962-01-11', 68.96, 69.54, 68.57, 69.37, 69.37, 3390000]\n",
            "[b'1962-01-12', 69.37, 70.17, 69.23, 69.61, 69.61, 3730000]\n",
            "[b'1962-01-15', 69.61, 69.96, 69.06, 69.47, 69.47, 3450000]\n"
          ],
          "name": "stdout"
        }
      ]
    },
    {
      "cell_type": "code",
      "metadata": {
        "id": "dOejMHrHGdld",
        "colab_type": "code",
        "outputId": "9250ecb6-cd2d-42dc-e989-7f658040905d",
        "colab": {
          "base_uri": "https://localhost:8080/",
          "height": 440
        }
      },
      "source": [
        "# Creates a dataset that reads all of the records from two CSV files with\n",
        "# headers, extracting float data from columns 2 and 4.\n",
        "record_defaults = [999, 999, 999] # Only provide defaults for the selected columns\n",
        "dataset = tf.data.experimental.CsvDataset(\"gspc.csv\", record_defaults, select_cols=[2, 3, 4])\n",
        "# dataset = dataset.map(lambda *items: tf.stack(items))\n",
        "dataset\n",
        "df"
      ],
      "execution_count": 0,
      "outputs": [
        {
          "output_type": "execute_result",
          "data": {
            "text/html": [
              "<div>\n",
              "<style scoped>\n",
              "    .dataframe tbody tr th:only-of-type {\n",
              "        vertical-align: middle;\n",
              "    }\n",
              "\n",
              "    .dataframe tbody tr th {\n",
              "        vertical-align: top;\n",
              "    }\n",
              "\n",
              "    .dataframe thead th {\n",
              "        text-align: right;\n",
              "    }\n",
              "</style>\n",
              "<table border=\"1\" class=\"dataframe\">\n",
              "  <thead>\n",
              "    <tr style=\"text-align: right;\">\n",
              "      <th></th>\n",
              "      <th>Open</th>\n",
              "      <th>High</th>\n",
              "      <th>Low</th>\n",
              "      <th>Close</th>\n",
              "      <th>Adj Close</th>\n",
              "      <th>Volume</th>\n",
              "    </tr>\n",
              "    <tr>\n",
              "      <th>Date</th>\n",
              "      <th></th>\n",
              "      <th></th>\n",
              "      <th></th>\n",
              "      <th></th>\n",
              "      <th></th>\n",
              "      <th></th>\n",
              "    </tr>\n",
              "  </thead>\n",
              "  <tbody>\n",
              "    <tr>\n",
              "      <th>1962-01-02</th>\n",
              "      <td>71.550003</td>\n",
              "      <td>71.959999</td>\n",
              "      <td>70.709999</td>\n",
              "      <td>70.959999</td>\n",
              "      <td>70.959999</td>\n",
              "      <td>3120000</td>\n",
              "    </tr>\n",
              "    <tr>\n",
              "      <th>1962-01-03</th>\n",
              "      <td>70.959999</td>\n",
              "      <td>71.480003</td>\n",
              "      <td>70.379997</td>\n",
              "      <td>71.129997</td>\n",
              "      <td>71.129997</td>\n",
              "      <td>3590000</td>\n",
              "    </tr>\n",
              "    <tr>\n",
              "      <th>1962-01-04</th>\n",
              "      <td>71.129997</td>\n",
              "      <td>71.620003</td>\n",
              "      <td>70.449997</td>\n",
              "      <td>70.639999</td>\n",
              "      <td>70.639999</td>\n",
              "      <td>4450000</td>\n",
              "    </tr>\n",
              "    <tr>\n",
              "      <th>1962-01-05</th>\n",
              "      <td>70.639999</td>\n",
              "      <td>70.839996</td>\n",
              "      <td>69.349998</td>\n",
              "      <td>69.660004</td>\n",
              "      <td>69.660004</td>\n",
              "      <td>4630000</td>\n",
              "    </tr>\n",
              "    <tr>\n",
              "      <th>1962-01-08</th>\n",
              "      <td>69.660004</td>\n",
              "      <td>69.839996</td>\n",
              "      <td>68.169998</td>\n",
              "      <td>69.120003</td>\n",
              "      <td>69.120003</td>\n",
              "      <td>4620000</td>\n",
              "    </tr>\n",
              "    <tr>\n",
              "      <th>...</th>\n",
              "      <td>...</td>\n",
              "      <td>...</td>\n",
              "      <td>...</td>\n",
              "      <td>...</td>\n",
              "      <td>...</td>\n",
              "      <td>...</td>\n",
              "    </tr>\n",
              "    <tr>\n",
              "      <th>2020-05-01</th>\n",
              "      <td>2869.090088</td>\n",
              "      <td>2869.090088</td>\n",
              "      <td>2821.610107</td>\n",
              "      <td>2830.709961</td>\n",
              "      <td>2830.709961</td>\n",
              "      <td>4753160000</td>\n",
              "    </tr>\n",
              "    <tr>\n",
              "      <th>2020-05-04</th>\n",
              "      <td>2815.010010</td>\n",
              "      <td>2844.239990</td>\n",
              "      <td>2797.850098</td>\n",
              "      <td>2842.739990</td>\n",
              "      <td>2842.739990</td>\n",
              "      <td>4723140000</td>\n",
              "    </tr>\n",
              "    <tr>\n",
              "      <th>2020-05-05</th>\n",
              "      <td>2868.879883</td>\n",
              "      <td>2898.229980</td>\n",
              "      <td>2863.550049</td>\n",
              "      <td>2868.439941</td>\n",
              "      <td>2868.439941</td>\n",
              "      <td>5129590000</td>\n",
              "    </tr>\n",
              "    <tr>\n",
              "      <th>2020-05-06</th>\n",
              "      <td>2883.139893</td>\n",
              "      <td>2891.110107</td>\n",
              "      <td>2847.649902</td>\n",
              "      <td>2848.419922</td>\n",
              "      <td>2848.419922</td>\n",
              "      <td>4861920000</td>\n",
              "    </tr>\n",
              "    <tr>\n",
              "      <th>2020-05-07</th>\n",
              "      <td>2878.260010</td>\n",
              "      <td>2901.919922</td>\n",
              "      <td>2876.479980</td>\n",
              "      <td>2881.189941</td>\n",
              "      <td>2881.189941</td>\n",
              "      <td>5164640000</td>\n",
              "    </tr>\n",
              "  </tbody>\n",
              "</table>\n",
              "<p>14688 rows × 6 columns</p>\n",
              "</div>"
            ],
            "text/plain": [
              "                   Open         High  ...    Adj Close      Volume\n",
              "Date                                  ...                         \n",
              "1962-01-02    71.550003    71.959999  ...    70.959999     3120000\n",
              "1962-01-03    70.959999    71.480003  ...    71.129997     3590000\n",
              "1962-01-04    71.129997    71.620003  ...    70.639999     4450000\n",
              "1962-01-05    70.639999    70.839996  ...    69.660004     4630000\n",
              "1962-01-08    69.660004    69.839996  ...    69.120003     4620000\n",
              "...                 ...          ...  ...          ...         ...\n",
              "2020-05-01  2869.090088  2869.090088  ...  2830.709961  4753160000\n",
              "2020-05-04  2815.010010  2844.239990  ...  2842.739990  4723140000\n",
              "2020-05-05  2868.879883  2898.229980  ...  2868.439941  5129590000\n",
              "2020-05-06  2883.139893  2891.110107  ...  2848.419922  4861920000\n",
              "2020-05-07  2878.260010  2901.919922  ...  2881.189941  5164640000\n",
              "\n",
              "[14688 rows x 6 columns]"
            ]
          },
          "metadata": {
            "tags": []
          },
          "execution_count": 47
        }
      ]
    },
    {
      "cell_type": "code",
      "metadata": {
        "id": "IGPWD9vqI32o",
        "colab_type": "code",
        "outputId": "a7549d92-705b-4ec4-9051-734e741f6832",
        "colab": {
          "base_uri": "https://localhost:8080/",
          "height": 54
        }
      },
      "source": [
        "gspc_batches = tf.data.experimental.make_csv_dataset(\n",
        "    gspc_file, batch_size=9,\n",
        "    label_name=\"Close\", select_columns=['High', 'Low', 'Close'])\n",
        "\n",
        "gspc_batches"
      ],
      "execution_count": 0,
      "outputs": [
        {
          "output_type": "execute_result",
          "data": {
            "text/plain": [
              "<PrefetchDataset shapes: (OrderedDict([(High, (9,)), (Low, (9,))]), (9,)), types: (OrderedDict([(High, tf.float32), (Low, tf.float32)]), tf.float32)>"
            ]
          },
          "metadata": {
            "tags": []
          },
          "execution_count": 57
        }
      ]
    },
    {
      "cell_type": "code",
      "metadata": {
        "id": "KL53viZoK0jI",
        "colab_type": "code",
        "outputId": "0f2dfc8c-4335-4b7e-8747-f23d9fbc9c72",
        "colab": {
          "base_uri": "https://localhost:8080/",
          "height": 70
        }
      },
      "source": [
        "for feature_batch, label_batch in gspc_batches.take(1):\n",
        "  print(\"'Close': {}\".format(label_batch))\n",
        "  for key, value in feature_batch.items():\n",
        "    print(\"  {!r:20s}: {}\".format(key, value))"
      ],
      "execution_count": 0,
      "outputs": [
        {
          "output_type": "stream",
          "text": [
            "'Close': [  84.94   96.81  249.95   70.42  448.96 1070.67  168.43   86.3  1106.64]\n",
            "  'High'              : [  85.44   97.4   249.97   70.71  451.63 1078.48  170.02   87.24 1119.13]\n",
            "  'Low'               : [  84.51   95.76  247.01   70.    447.53 1067.43  167.95   85.03 1103.72]\n"
          ],
          "name": "stdout"
        }
      ]
    },
    {
      "cell_type": "code",
      "metadata": {
        "id": "BF2C8cqTKZaL",
        "colab_type": "code",
        "colab": {}
      },
      "source": [
        ""
      ],
      "execution_count": 0,
      "outputs": []
    },
    {
      "cell_type": "markdown",
      "metadata": {
        "id": "ks5ey7SLkmgY",
        "colab_type": "text"
      },
      "source": [
        "# Getting and preparing Dataset"
      ]
    },
    {
      "cell_type": "code",
      "metadata": {
        "id": "3wJ1WjbIZn3a",
        "colab_type": "code",
        "colab": {}
      },
      "source": [
        "url=\"https://query1.finance.yahoo.com/v7/finance/download/%5EGSPC?period1=-252460800&period2=1588896000&interval=1d&events=history\"\n",
        "gspc = pd.read_csv(url,sep=',',parse_dates=True,index_col='Date')"
      ],
      "execution_count": 0,
      "outputs": []
    },
    {
      "cell_type": "code",
      "metadata": {
        "id": "QJenLyKCeaif",
        "colab_type": "code",
        "outputId": "335a9a5e-1d4b-4220-81d1-3ba1bf42999e",
        "colab": {
          "base_uri": "https://localhost:8080/",
          "height": 446
        }
      },
      "source": [
        "gspc[['o','h','l','c','v']] = np.log(gspc[['Open','High','Low','Close','Volume']])\n",
        "gspc = gspc.drop(columns=['Open','High','Low','Close','Adj Close','Volume'])\n",
        "gspc['co'] = gspc['o'].sub(gspc['c'].shift(1))\n",
        "gspc[['oh','ol','oc']] = gspc[['h','l','c']].sub(gspc['o'],axis=0)\n",
        "gspc = gspc.fillna(0.0)\n",
        "gspc"
      ],
      "execution_count": 0,
      "outputs": [
        {
          "output_type": "execute_result",
          "data": {
            "text/html": [
              "<div>\n",
              "<style scoped>\n",
              "    .dataframe tbody tr th:only-of-type {\n",
              "        vertical-align: middle;\n",
              "    }\n",
              "\n",
              "    .dataframe tbody tr th {\n",
              "        vertical-align: top;\n",
              "    }\n",
              "\n",
              "    .dataframe thead th {\n",
              "        text-align: right;\n",
              "    }\n",
              "</style>\n",
              "<table border=\"1\" class=\"dataframe\">\n",
              "  <thead>\n",
              "    <tr style=\"text-align: right;\">\n",
              "      <th></th>\n",
              "      <th>o</th>\n",
              "      <th>h</th>\n",
              "      <th>l</th>\n",
              "      <th>c</th>\n",
              "      <th>v</th>\n",
              "      <th>co</th>\n",
              "      <th>oh</th>\n",
              "      <th>ol</th>\n",
              "      <th>oc</th>\n",
              "    </tr>\n",
              "    <tr>\n",
              "      <th>Date</th>\n",
              "      <th></th>\n",
              "      <th></th>\n",
              "      <th></th>\n",
              "      <th></th>\n",
              "      <th></th>\n",
              "      <th></th>\n",
              "      <th></th>\n",
              "      <th></th>\n",
              "      <th></th>\n",
              "    </tr>\n",
              "  </thead>\n",
              "  <tbody>\n",
              "    <tr>\n",
              "      <th>1962-01-02</th>\n",
              "      <td>4.270397</td>\n",
              "      <td>4.276110</td>\n",
              "      <td>4.258587</td>\n",
              "      <td>4.262116</td>\n",
              "      <td>14.953344</td>\n",
              "      <td>0.000000</td>\n",
              "      <td>0.005714</td>\n",
              "      <td>-0.011810</td>\n",
              "      <td>-0.008280</td>\n",
              "    </tr>\n",
              "    <tr>\n",
              "      <th>1962-01-03</th>\n",
              "      <td>4.262116</td>\n",
              "      <td>4.269418</td>\n",
              "      <td>4.253909</td>\n",
              "      <td>4.264509</td>\n",
              "      <td>15.093663</td>\n",
              "      <td>0.000000</td>\n",
              "      <td>0.007301</td>\n",
              "      <td>-0.008207</td>\n",
              "      <td>0.002393</td>\n",
              "    </tr>\n",
              "    <tr>\n",
              "      <th>1962-01-04</th>\n",
              "      <td>4.264509</td>\n",
              "      <td>4.271374</td>\n",
              "      <td>4.254903</td>\n",
              "      <td>4.257597</td>\n",
              "      <td>15.308415</td>\n",
              "      <td>0.000000</td>\n",
              "      <td>0.006865</td>\n",
              "      <td>-0.009606</td>\n",
              "      <td>-0.006913</td>\n",
              "    </tr>\n",
              "    <tr>\n",
              "      <th>1962-01-05</th>\n",
              "      <td>4.257597</td>\n",
              "      <td>4.260424</td>\n",
              "      <td>4.239166</td>\n",
              "      <td>4.243626</td>\n",
              "      <td>15.348067</td>\n",
              "      <td>0.000000</td>\n",
              "      <td>0.002827</td>\n",
              "      <td>-0.018430</td>\n",
              "      <td>-0.013970</td>\n",
              "    </tr>\n",
              "    <tr>\n",
              "      <th>1962-01-08</th>\n",
              "      <td>4.243626</td>\n",
              "      <td>4.246207</td>\n",
              "      <td>4.222005</td>\n",
              "      <td>4.235844</td>\n",
              "      <td>15.345905</td>\n",
              "      <td>0.000000</td>\n",
              "      <td>0.002581</td>\n",
              "      <td>-0.021622</td>\n",
              "      <td>-0.007782</td>\n",
              "    </tr>\n",
              "    <tr>\n",
              "      <th>...</th>\n",
              "      <td>...</td>\n",
              "      <td>...</td>\n",
              "      <td>...</td>\n",
              "      <td>...</td>\n",
              "      <td>...</td>\n",
              "      <td>...</td>\n",
              "      <td>...</td>\n",
              "      <td>...</td>\n",
              "      <td>...</td>\n",
              "    </tr>\n",
              "    <tr>\n",
              "      <th>2020-05-01</th>\n",
              "      <td>7.961750</td>\n",
              "      <td>7.961750</td>\n",
              "      <td>7.945063</td>\n",
              "      <td>7.948283</td>\n",
              "      <td>22.282075</td>\n",
              "      <td>-0.014993</td>\n",
              "      <td>0.000000</td>\n",
              "      <td>-0.016687</td>\n",
              "      <td>-0.013467</td>\n",
              "    </tr>\n",
              "    <tr>\n",
              "      <th>2020-05-04</th>\n",
              "      <td>7.942721</td>\n",
              "      <td>7.953051</td>\n",
              "      <td>7.936607</td>\n",
              "      <td>7.952524</td>\n",
              "      <td>22.275740</td>\n",
              "      <td>-0.005562</td>\n",
              "      <td>0.010330</td>\n",
              "      <td>-0.006115</td>\n",
              "      <td>0.009803</td>\n",
              "    </tr>\n",
              "    <tr>\n",
              "      <th>2020-05-05</th>\n",
              "      <td>7.961677</td>\n",
              "      <td>7.971855</td>\n",
              "      <td>7.959817</td>\n",
              "      <td>7.961524</td>\n",
              "      <td>22.358292</td>\n",
              "      <td>0.009153</td>\n",
              "      <td>0.010179</td>\n",
              "      <td>-0.001860</td>\n",
              "      <td>-0.000153</td>\n",
              "    </tr>\n",
              "    <tr>\n",
              "      <th>2020-05-06</th>\n",
              "      <td>7.966635</td>\n",
              "      <td>7.969396</td>\n",
              "      <td>7.954249</td>\n",
              "      <td>7.954520</td>\n",
              "      <td>22.304699</td>\n",
              "      <td>0.005112</td>\n",
              "      <td>0.002761</td>\n",
              "      <td>-0.012386</td>\n",
              "      <td>-0.012116</td>\n",
              "    </tr>\n",
              "    <tr>\n",
              "      <th>2020-05-07</th>\n",
              "      <td>7.964941</td>\n",
              "      <td>7.973128</td>\n",
              "      <td>7.964323</td>\n",
              "      <td>7.965959</td>\n",
              "      <td>22.365101</td>\n",
              "      <td>0.010422</td>\n",
              "      <td>0.008187</td>\n",
              "      <td>-0.000619</td>\n",
              "      <td>0.001017</td>\n",
              "    </tr>\n",
              "  </tbody>\n",
              "</table>\n",
              "<p>14688 rows × 9 columns</p>\n",
              "</div>"
            ],
            "text/plain": [
              "                   o         h         l  ...        oh        ol        oc\n",
              "Date                                      ...                              \n",
              "1962-01-02  4.270397  4.276110  4.258587  ...  0.005714 -0.011810 -0.008280\n",
              "1962-01-03  4.262116  4.269418  4.253909  ...  0.007301 -0.008207  0.002393\n",
              "1962-01-04  4.264509  4.271374  4.254903  ...  0.006865 -0.009606 -0.006913\n",
              "1962-01-05  4.257597  4.260424  4.239166  ...  0.002827 -0.018430 -0.013970\n",
              "1962-01-08  4.243626  4.246207  4.222005  ...  0.002581 -0.021622 -0.007782\n",
              "...              ...       ...       ...  ...       ...       ...       ...\n",
              "2020-05-01  7.961750  7.961750  7.945063  ...  0.000000 -0.016687 -0.013467\n",
              "2020-05-04  7.942721  7.953051  7.936607  ...  0.010330 -0.006115  0.009803\n",
              "2020-05-05  7.961677  7.971855  7.959817  ...  0.010179 -0.001860 -0.000153\n",
              "2020-05-06  7.966635  7.969396  7.954249  ...  0.002761 -0.012386 -0.012116\n",
              "2020-05-07  7.964941  7.973128  7.964323  ...  0.008187 -0.000619  0.001017\n",
              "\n",
              "[14688 rows x 9 columns]"
            ]
          },
          "metadata": {
            "tags": []
          },
          "execution_count": 6
        }
      ]
    },
    {
      "cell_type": "code",
      "metadata": {
        "id": "2P5Q_X5TiYFW",
        "colab_type": "code",
        "outputId": "d167040b-12e1-40ec-a9ff-ac4dd75d6969",
        "colab": {
          "base_uri": "https://localhost:8080/",
          "height": 287
        }
      },
      "source": [
        "gspc[['oh','ol']].plot()\n",
        "# gspc[['oh','ol']].add(gspc['co'],axis=0).plot()\n",
        "# gspc['oc'].plot()"
      ],
      "execution_count": 0,
      "outputs": [
        {
          "output_type": "execute_result",
          "data": {
            "text/plain": [
              "<matplotlib.axes._subplots.AxesSubplot at 0x7f79eecf4908>"
            ]
          },
          "metadata": {
            "tags": []
          },
          "execution_count": 7
        },
        {
          "output_type": "display_data",
          "data": {
            "image/png": "[encoded data removed]",
            "text/plain": [
              "<Figure size 432x288 with 1 Axes>"
            ]
          },
          "metadata": {
            "tags": [],
            "needs_background": "light"
          }
        }
      ]
    },
    {
      "cell_type": "code",
      "metadata": {
        "id": "wfV1zG2RGhOT",
        "colab_type": "code",
        "outputId": "13c07c4d-a397-4f8c-da5d-a325034333cf",
        "colab": {
          "base_uri": "https://localhost:8080/",
          "height": 35
        }
      },
      "source": [
        "gspc.shape[0] // 20 % 20"
      ],
      "execution_count": 0,
      "outputs": [
        {
          "output_type": "execute_result",
          "data": {
            "text/plain": [
              "14"
            ]
          },
          "metadata": {
            "tags": []
          },
          "execution_count": 8
        }
      ]
    },
    {
      "cell_type": "code",
      "metadata": {
        "id": "kG62-CwoNx6C",
        "colab_type": "code",
        "outputId": "80c55c44-129f-4b85-c049-c0aaafc6d63d",
        "colab": {
          "base_uri": "https://localhost:8080/",
          "height": 35
        }
      },
      "source": [
        "# Creating training data structure \n",
        "x_train = []\n",
        "y_train = []\n",
        "for i in range( 20,gspc.shape[0] - (gspc.shape[0] // 20 % 20 )*20, 20 ):\n",
        "  x_train.append(gspc.values[i-20:i,5:9])\n",
        "  y_train.append(gspc.values[i+1-20:i+1,5:9])\n",
        "x_train,y_train = np.array(x_train),np.array(y_train)\n",
        "x_train.shape,y_train.shape"
      ],
      "execution_count": 0,
      "outputs": [
        {
          "output_type": "execute_result",
          "data": {
            "text/plain": [
              "((720, 20, 4), (720, 20, 4))"
            ]
          },
          "metadata": {
            "tags": []
          },
          "execution_count": 9
        }
      ]
    },
    {
      "cell_type": "code",
      "metadata": {
        "id": "6cIRhlSnKEDQ",
        "colab_type": "code",
        "outputId": "d667347c-9018-4d60-bd6b-6e155fd1568a",
        "colab": {
          "base_uri": "https://localhost:8080/",
          "height": 35
        }
      },
      "source": [
        "# Creating test data structure \n",
        "x_test = []\n",
        "for i in range( gspc.shape[0] - 400, gspc.shape[0] , 20 ):\n",
        "  x_test.append(gspc.values[i-20:i,5:9])\n",
        "x_test = np.array(x_test)\n",
        "x_test.shape\n"
      ],
      "execution_count": 0,
      "outputs": [
        {
          "output_type": "execute_result",
          "data": {
            "text/plain": [
              "(20, 20, 4)"
            ]
          },
          "metadata": {
            "tags": []
          },
          "execution_count": 10
        }
      ]
    },
    {
      "cell_type": "markdown",
      "metadata": {
        "id": "RoLYwftXUl_y",
        "colab_type": "text"
      },
      "source": [
        "# Model phase\n"
      ]
    },
    {
      "cell_type": "code",
      "metadata": {
        "id": "OCPR0SI0bDEt",
        "colab_type": "code",
        "outputId": "5ce50ba9-a13f-4cb6-b0d6-0b22a5cb58be",
        "colab": {
          "base_uri": "https://localhost:8080/",
          "height": 35
        }
      },
      "source": [
        "from keras.models import Sequential\n",
        "from keras.layers import Dense\n",
        "from keras.layers import LSTM\n",
        "from keras.layers import Dropout"
      ],
      "execution_count": 0,
      "outputs": [
        {
          "output_type": "stream",
          "text": [
            "Using TensorFlow backend.\n"
          ],
          "name": "stderr"
        }
      ]
    },
    {
      "cell_type": "code",
      "metadata": {
        "id": "j9j7QQAebqtC",
        "colab_type": "code",
        "colab": {}
      },
      "source": [
        "# Initializing the RNN\n",
        "regressor = Sequential()"
      ],
      "execution_count": 0,
      "outputs": []
    },
    {
      "cell_type": "code",
      "metadata": {
        "id": "DqpC3elijBxO",
        "colab_type": "code",
        "colab": {}
      },
      "source": [
        "# adding first layer\n",
        "regressor.add(LSTM(units=20, return_sequences=True, stateful=True, batch_input_shape=(20,20,4), input_shape=( x_train.shape[1],x_train.shape[2])))\n",
        "regressor.add(Dropout(0.2))"
      ],
      "execution_count": 0,
      "outputs": []
    },
    {
      "cell_type": "code",
      "metadata": {
        "id": "hA_PSniekusU",
        "colab_type": "code",
        "colab": {}
      },
      "source": [
        "# adding second layer\n",
        "regressor.add(LSTM(units=20, return_sequences=True, stateful=True))\n",
        "regressor.add(Dropout(0.2))"
      ],
      "execution_count": 0,
      "outputs": []
    },
    {
      "cell_type": "code",
      "metadata": {
        "id": "qJwECY3MlD1M",
        "colab_type": "code",
        "colab": {}
      },
      "source": [
        "# adding third layer\n",
        "regressor.add(LSTM(units=20, return_sequences=True, stateful=True))\n",
        "regressor.add(Dropout(0.2))"
      ],
      "execution_count": 0,
      "outputs": []
    },
    {
      "cell_type": "code",
      "metadata": {
        "id": "R9g8BTwimAht",
        "colab_type": "code",
        "colab": {}
      },
      "source": [
        "# adding output layer\n",
        "regressor.add(Dense( units=4 ))"
      ],
      "execution_count": 0,
      "outputs": []
    },
    {
      "cell_type": "code",
      "metadata": {
        "id": "53zh5cDGmxYq",
        "colab_type": "code",
        "colab": {}
      },
      "source": [
        "# compile model\n",
        "regressor.compile( optimizer= 'adam', loss= 'mean_squared_error')\n"
      ],
      "execution_count": 0,
      "outputs": []
    },
    {
      "cell_type": "code",
      "metadata": {
        "id": "Ljkxgm_nnO9a",
        "colab_type": "code",
        "outputId": "77a116c2-cc22-42da-9f1b-b3ad6832480a",
        "colab": {
          "base_uri": "https://localhost:8080/",
          "height": 1000
        }
      },
      "source": [
        "regressor.fit( x_train, y_train, epochs=400, batch_size= 20 )"
      ],
      "execution_count": 0,
      "outputs": [
        {
          "output_type": "stream",
          "text": [
            "720/720 [==============================] - 1s 885us/step - loss: 4.5565e-05\n",
            "Epoch 50/400\n",
            "720/720 [==============================] - 1s 884us/step - loss: 4.5417e-05\n",
            "Epoch 51/400\n",
            "720/720 [==============================] - 1s 869us/step - loss: 4.5223e-05\n",
            "Epoch 52/400\n",
            "720/720 [==============================] - 1s 898us/step - loss: 4.5509e-05\n",
            "Epoch 53/400\n",
            "720/720 [==============================] - 1s 883us/step - loss: 4.5432e-05\n",
            "Epoch 54/400\n",
            "720/720 [==============================] - 1s 877us/step - loss: 4.5080e-05\n",
            "Epoch 55/400\n",
            "720/720 [==============================] - 1s 916us/step - loss: 4.5265e-05\n",
            "Epoch 56/400\n",
            "720/720 [==============================] - 1s 870us/step - loss: 4.5178e-05\n",
            "Epoch 57/400\n",
            "720/720 [==============================] - 1s 904us/step - loss: 4.5037e-05\n",
            "Epoch 58/400\n",
            "720/720 [==============================] - 1s 864us/step - loss: 4.5315e-05\n",
            "Epoch 59/400\n",
            "720/720 [==============================] - 1s 854us/step - loss: 4.5332e-05\n",
            "Epoch 60/400\n",
            "720/720 [==============================] - 1s 946us/step - loss: 4.5310e-05\n",
            "Epoch 61/400\n",
            "720/720 [==============================] - 1s 881us/step - loss: 4.5174e-05\n",
            "Epoch 62/400\n",
            "720/720 [==============================] - 1s 878us/step - loss: 4.4940e-05\n",
            "Epoch 63/400\n",
            "720/720 [==============================] - 1s 895us/step - loss: 4.5047e-05\n",
            "Epoch 64/400\n",
            "720/720 [==============================] - 1s 885us/step - loss: 4.5105e-05\n",
            "Epoch 65/400\n",
            "720/720 [==============================] - 1s 927us/step - loss: 4.5032e-05\n",
            "Epoch 66/400\n",
            "720/720 [==============================] - 1s 905us/step - loss: 4.5118e-05\n",
            "Epoch 67/400\n",
            "720/720 [==============================] - 1s 908us/step - loss: 4.5176e-05\n",
            "Epoch 68/400\n",
            "720/720 [==============================] - 1s 901us/step - loss: 4.5154e-05\n",
            "Epoch 69/400\n",
            "720/720 [==============================] - 1s 897us/step - loss: 4.4944e-05\n",
            "Epoch 70/400\n",
            "720/720 [==============================] - 1s 857us/step - loss: 4.5062e-05\n",
            "Epoch 71/400\n",
            "720/720 [==============================] - 1s 927us/step - loss: 4.5128e-05\n",
            "Epoch 72/400\n",
            "720/720 [==============================] - 1s 869us/step - loss: 4.4984e-05\n",
            "Epoch 73/400\n",
            "720/720 [==============================] - 1s 900us/step - loss: 4.4922e-05\n",
            "Epoch 74/400\n",
            "720/720 [==============================] - 1s 902us/step - loss: 4.5118e-05\n",
            "Epoch 75/400\n",
            "720/720 [==============================] - 1s 903us/step - loss: 4.5035e-05\n",
            "Epoch 76/400\n",
            "720/720 [==============================] - 1s 927us/step - loss: 4.5096e-05\n",
            "Epoch 77/400\n",
            "720/720 [==============================] - 1s 910us/step - loss: 4.4988e-05\n",
            "Epoch 78/400\n",
            "720/720 [==============================] - 1s 880us/step - loss: 4.4968e-05\n",
            "Epoch 79/400\n",
            "720/720 [==============================] - 1s 882us/step - loss: 4.4936e-05\n",
            "Epoch 80/400\n",
            "720/720 [==============================] - 1s 878us/step - loss: 4.4994e-05\n",
            "Epoch 81/400\n",
            "720/720 [==============================] - 1s 871us/step - loss: 4.5043e-05\n",
            "Epoch 82/400\n",
            "720/720 [==============================] - 1s 916us/step - loss: 4.4832e-05\n",
            "Epoch 83/400\n",
            "720/720 [==============================] - 1s 895us/step - loss: 4.5123e-05\n",
            "Epoch 84/400\n",
            "720/720 [==============================] - 1s 892us/step - loss: 4.5165e-05\n",
            "Epoch 85/400\n",
            "720/720 [==============================] - 1s 893us/step - loss: 4.5029e-05\n",
            "Epoch 86/400\n",
            "720/720 [==============================] - 1s 892us/step - loss: 4.4917e-05\n",
            "Epoch 87/400\n",
            "720/720 [==============================] - 1s 893us/step - loss: 4.5017e-05\n",
            "Epoch 88/400\n",
            "720/720 [==============================] - 1s 904us/step - loss: 4.4783e-05\n",
            "Epoch 89/400\n",
            "720/720 [==============================] - 1s 854us/step - loss: 4.4888e-05\n",
            "Epoch 90/400\n",
            "720/720 [==============================] - 1s 901us/step - loss: 4.4888e-05\n",
            "Epoch 91/400\n",
            "720/720 [==============================] - 1s 891us/step - loss: 4.4845e-05\n",
            "Epoch 92/400\n",
            "720/720 [==============================] - 1s 912us/step - loss: 4.5220e-05\n",
            "Epoch 93/400\n",
            "720/720 [==============================] - 1s 897us/step - loss: 4.4931e-05\n",
            "Epoch 94/400\n",
            "720/720 [==============================] - 1s 877us/step - loss: 4.4913e-05\n",
            "Epoch 95/400\n",
            "720/720 [==============================] - 1s 885us/step - loss: 4.4834e-05\n",
            "Epoch 96/400\n",
            "720/720 [==============================] - 1s 868us/step - loss: 4.4858e-05\n",
            "Epoch 97/400\n",
            "720/720 [==============================] - 1s 835us/step - loss: 4.4773e-05\n",
            "Epoch 98/400\n",
            "720/720 [==============================] - 1s 869us/step - loss: 4.4792e-05\n",
            "Epoch 99/400\n",
            "720/720 [==============================] - 1s 863us/step - loss: 4.4866e-05\n",
            "Epoch 100/400\n",
            "720/720 [==============================] - 1s 871us/step - loss: 4.4822e-05\n",
            "Epoch 101/400\n",
            "720/720 [==============================] - 1s 868us/step - loss: 4.4905e-05\n",
            "Epoch 102/400\n",
            "720/720 [==============================] - 1s 870us/step - loss: 4.4838e-05\n",
            "Epoch 103/400\n",
            "720/720 [==============================] - 1s 855us/step - loss: 4.4776e-05\n",
            "Epoch 104/400\n",
            "720/720 [==============================] - 1s 912us/step - loss: 4.4847e-05\n",
            "Epoch 105/400\n",
            "720/720 [==============================] - 1s 882us/step - loss: 4.4728e-05\n",
            "Epoch 106/400\n",
            "720/720 [==============================] - 1s 880us/step - loss: 4.4885e-05\n",
            "Epoch 107/400\n",
            "720/720 [==============================] - 1s 928us/step - loss: 4.4787e-05\n",
            "Epoch 108/400\n",
            "720/720 [==============================] - 1s 923us/step - loss: 4.4884e-05\n",
            "Epoch 109/400\n",
            "720/720 [==============================] - 1s 891us/step - loss: 4.4736e-05\n",
            "Epoch 110/400\n",
            "720/720 [==============================] - 1s 887us/step - loss: 4.4881e-05\n",
            "Epoch 111/400\n",
            "720/720 [==============================] - 1s 920us/step - loss: 4.4762e-05\n",
            "Epoch 112/400\n",
            "720/720 [==============================] - 1s 890us/step - loss: 4.4878e-05\n",
            "Epoch 113/400\n",
            "720/720 [==============================] - 1s 890us/step - loss: 4.4721e-05\n",
            "Epoch 114/400\n",
            "720/720 [==============================] - 1s 896us/step - loss: 4.4766e-05\n",
            "Epoch 115/400\n",
            "720/720 [==============================] - 1s 899us/step - loss: 4.4872e-05\n",
            "Epoch 116/400\n",
            "720/720 [==============================] - 1s 862us/step - loss: 4.4728e-05\n",
            "Epoch 117/400\n",
            "720/720 [==============================] - 1s 847us/step - loss: 4.4760e-05\n",
            "Epoch 118/400\n",
            "720/720 [==============================] - 1s 891us/step - loss: 4.4836e-05\n",
            "Epoch 119/400\n",
            "720/720 [==============================] - 1s 900us/step - loss: 4.4679e-05\n",
            "Epoch 120/400\n",
            "720/720 [==============================] - 1s 925us/step - loss: 4.4834e-05\n",
            "Epoch 121/400\n",
            "720/720 [==============================] - 1s 883us/step - loss: 4.4726e-05\n",
            "Epoch 122/400\n",
            "720/720 [==============================] - 1s 891us/step - loss: 4.4784e-05\n",
            "Epoch 123/400\n",
            "720/720 [==============================] - 1s 885us/step - loss: 4.4880e-05\n",
            "Epoch 124/400\n",
            "720/720 [==============================] - 1s 928us/step - loss: 4.4871e-05\n",
            "Epoch 125/400\n",
            "720/720 [==============================] - 1s 885us/step - loss: 4.4909e-05\n",
            "Epoch 126/400\n",
            "720/720 [==============================] - 1s 905us/step - loss: 4.4731e-05\n",
            "Epoch 127/400\n",
            "720/720 [==============================] - 1s 880us/step - loss: 4.4711e-05\n",
            "Epoch 128/400\n",
            "720/720 [==============================] - 1s 908us/step - loss: 4.4748e-05\n",
            "Epoch 129/400\n",
            "720/720 [==============================] - 1s 884us/step - loss: 4.4753e-05\n",
            "Epoch 130/400\n",
            "720/720 [==============================] - 1s 907us/step - loss: 4.4750e-05\n",
            "Epoch 131/400\n",
            "720/720 [==============================] - 1s 890us/step - loss: 4.4840e-05\n",
            "Epoch 132/400\n",
            "720/720 [==============================] - 1s 882us/step - loss: 4.4742e-05\n",
            "Epoch 133/400\n",
            "720/720 [==============================] - 1s 912us/step - loss: 4.4843e-05\n",
            "Epoch 134/400\n",
            "720/720 [==============================] - 1s 907us/step - loss: 4.4632e-05\n",
            "Epoch 135/400\n",
            "720/720 [==============================] - 1s 903us/step - loss: 4.4913e-05\n",
            "Epoch 136/400\n",
            "720/720 [==============================] - 1s 910us/step - loss: 4.4781e-05\n",
            "Epoch 137/400\n",
            "720/720 [==============================] - 1s 907us/step - loss: 4.4853e-05\n",
            "Epoch 138/400\n",
            "720/720 [==============================] - 1s 870us/step - loss: 4.4887e-05\n",
            "Epoch 139/400\n",
            "720/720 [==============================] - 1s 884us/step - loss: 4.4732e-05\n",
            "Epoch 140/400\n",
            "720/720 [==============================] - 1s 938us/step - loss: 4.4625e-05\n",
            "Epoch 141/400\n",
            "720/720 [==============================] - 1s 890us/step - loss: 4.4774e-05\n",
            "Epoch 142/400\n",
            "720/720 [==============================] - 1s 915us/step - loss: 4.4765e-05\n",
            "Epoch 143/400\n",
            "720/720 [==============================] - 1s 872us/step - loss: 4.4781e-05\n",
            "Epoch 144/400\n",
            "720/720 [==============================] - 1s 900us/step - loss: 4.4780e-05\n",
            "Epoch 145/400\n",
            "720/720 [==============================] - 1s 908us/step - loss: 4.4597e-05\n",
            "Epoch 146/400\n",
            "720/720 [==============================] - 1s 922us/step - loss: 4.4703e-05\n",
            "Epoch 147/400\n",
            "720/720 [==============================] - 1s 911us/step - loss: 4.4923e-05\n",
            "Epoch 148/400\n",
            "720/720 [==============================] - 1s 918us/step - loss: 4.4825e-05\n",
            "Epoch 149/400\n",
            "720/720 [==============================] - 1s 892us/step - loss: 4.4765e-05\n",
            "Epoch 150/400\n",
            "720/720 [==============================] - 1s 934us/step - loss: 4.4797e-05\n",
            "Epoch 151/400\n",
            "720/720 [==============================] - 1s 919us/step - loss: 4.4773e-05\n",
            "Epoch 152/400\n",
            "720/720 [==============================] - 1s 898us/step - loss: 4.4696e-05\n",
            "Epoch 153/400\n",
            "720/720 [==============================] - 1s 937us/step - loss: 4.4671e-05\n",
            "Epoch 154/400\n",
            "720/720 [==============================] - 1s 963us/step - loss: 4.4699e-05\n",
            "Epoch 155/400\n",
            "720/720 [==============================] - 1s 920us/step - loss: 4.4842e-05\n",
            "Epoch 156/400\n",
            "720/720 [==============================] - 1s 984us/step - loss: 4.4818e-05\n",
            "Epoch 157/400\n",
            "720/720 [==============================] - 1s 955us/step - loss: 4.4765e-05\n",
            "Epoch 158/400\n",
            "720/720 [==============================] - 1s 1000us/step - loss: 4.4694e-05\n",
            "Epoch 159/400\n",
            "720/720 [==============================] - 1s 932us/step - loss: 4.4787e-05\n",
            "Epoch 160/400\n",
            "720/720 [==============================] - 1s 971us/step - loss: 4.4812e-05\n",
            "Epoch 161/400\n",
            "720/720 [==============================] - 1s 934us/step - loss: 4.4859e-05\n",
            "Epoch 162/400\n",
            "720/720 [==============================] - 1s 946us/step - loss: 4.4637e-05\n",
            "Epoch 163/400\n",
            "720/720 [==============================] - 1s 919us/step - loss: 4.4762e-05\n",
            "Epoch 164/400\n",
            "720/720 [==============================] - 1s 897us/step - loss: 4.4847e-05\n",
            "Epoch 165/400\n",
            "720/720 [==============================] - 1s 919us/step - loss: 4.4780e-05\n",
            "Epoch 166/400\n",
            "720/720 [==============================] - 1s 910us/step - loss: 4.4756e-05\n",
            "Epoch 167/400\n",
            "720/720 [==============================] - 1s 916us/step - loss: 4.4699e-05\n",
            "Epoch 168/400\n",
            "720/720 [==============================] - 1s 921us/step - loss: 4.4664e-05\n",
            "Epoch 169/400\n",
            "720/720 [==============================] - 1s 923us/step - loss: 4.4705e-05\n",
            "Epoch 170/400\n",
            "720/720 [==============================] - 1s 904us/step - loss: 4.4831e-05\n",
            "Epoch 171/400\n",
            "720/720 [==============================] - 1s 944us/step - loss: 4.4657e-05\n",
            "Epoch 172/400\n",
            "720/720 [==============================] - 1s 922us/step - loss: 4.4682e-05\n",
            "Epoch 173/400\n",
            "720/720 [==============================] - 1s 891us/step - loss: 4.4778e-05\n",
            "Epoch 174/400\n",
            "720/720 [==============================] - 1s 948us/step - loss: 4.4633e-05\n",
            "Epoch 175/400\n",
            "720/720 [==============================] - 1s 901us/step - loss: 4.4793e-05\n",
            "Epoch 176/400\n",
            "720/720 [==============================] - 1s 923us/step - loss: 4.4737e-05\n",
            "Epoch 177/400\n",
            "720/720 [==============================] - 1s 903us/step - loss: 4.4706e-05\n",
            "Epoch 178/400\n",
            "720/720 [==============================] - 1s 885us/step - loss: 4.4815e-05\n",
            "Epoch 179/400\n",
            "720/720 [==============================] - 1s 924us/step - loss: 4.4732e-05\n",
            "Epoch 180/400\n",
            "720/720 [==============================] - 1s 911us/step - loss: 4.4775e-05\n",
            "Epoch 181/400\n",
            "720/720 [==============================] - 1s 928us/step - loss: 4.4860e-05\n",
            "Epoch 182/400\n",
            "720/720 [==============================] - 1s 915us/step - loss: 4.4693e-05\n",
            "Epoch 183/400\n",
            "720/720 [==============================] - 1s 908us/step - loss: 4.4669e-05\n",
            "Epoch 184/400\n",
            "720/720 [==============================] - 1s 894us/step - loss: 4.4769e-05\n",
            "Epoch 185/400\n",
            "720/720 [==============================] - 1s 976us/step - loss: 4.4770e-05\n",
            "Epoch 186/400\n",
            "720/720 [==============================] - 1s 917us/step - loss: 4.4668e-05\n",
            "Epoch 187/400\n",
            "720/720 [==============================] - 1s 939us/step - loss: 4.4823e-05\n",
            "Epoch 188/400\n",
            "720/720 [==============================] - 1s 916us/step - loss: 4.4735e-05\n",
            "Epoch 189/400\n",
            "720/720 [==============================] - 1s 929us/step - loss: 4.4706e-05\n",
            "Epoch 190/400\n",
            "720/720 [==============================] - 1s 878us/step - loss: 4.4689e-05\n",
            "Epoch 191/400\n",
            "720/720 [==============================] - 1s 924us/step - loss: 4.5048e-05\n",
            "Epoch 192/400\n",
            "720/720 [==============================] - 1s 903us/step - loss: 4.4793e-05\n",
            "Epoch 193/400\n",
            "720/720 [==============================] - 1s 942us/step - loss: 4.4900e-05\n",
            "Epoch 194/400\n",
            "720/720 [==============================] - 1s 893us/step - loss: 4.4696e-05\n",
            "Epoch 195/400\n",
            "720/720 [==============================] - 1s 927us/step - loss: 4.4798e-05\n",
            "Epoch 196/400\n",
            "720/720 [==============================] - 1s 907us/step - loss: 4.4816e-05\n",
            "Epoch 197/400\n",
            "720/720 [==============================] - 1s 888us/step - loss: 4.4612e-05\n",
            "Epoch 198/400\n",
            "720/720 [==============================] - 1s 914us/step - loss: 4.4699e-05\n",
            "Epoch 199/400\n",
            "720/720 [==============================] - 1s 904us/step - loss: 4.4700e-05\n",
            "Epoch 200/400\n",
            "720/720 [==============================] - 1s 919us/step - loss: 4.4671e-05\n",
            "Epoch 201/400\n",
            "720/720 [==============================] - 1s 897us/step - loss: 4.4643e-05\n",
            "Epoch 202/400\n",
            "720/720 [==============================] - 1s 937us/step - loss: 4.4753e-05\n",
            "Epoch 203/400\n",
            "720/720 [==============================] - 1s 928us/step - loss: 4.4729e-05\n",
            "Epoch 204/400\n",
            "720/720 [==============================] - 1s 882us/step - loss: 4.4744e-05\n",
            "Epoch 205/400\n",
            "720/720 [==============================] - 1s 918us/step - loss: 4.4968e-05\n",
            "Epoch 206/400\n",
            "720/720 [==============================] - 1s 906us/step - loss: 4.4776e-05\n",
            "Epoch 207/400\n",
            "720/720 [==============================] - 1s 898us/step - loss: 4.4748e-05\n",
            "Epoch 208/400\n",
            "720/720 [==============================] - 1s 890us/step - loss: 4.4653e-05\n",
            "Epoch 209/400\n",
            "720/720 [==============================] - 1s 927us/step - loss: 4.4655e-05\n",
            "Epoch 210/400\n",
            "720/720 [==============================] - 1s 913us/step - loss: 4.4912e-05\n",
            "Epoch 211/400\n",
            "720/720 [==============================] - 1s 923us/step - loss: 4.4720e-05\n",
            "Epoch 212/400\n",
            "720/720 [==============================] - 1s 862us/step - loss: 4.4690e-05\n",
            "Epoch 213/400\n",
            "720/720 [==============================] - 1s 885us/step - loss: 4.4676e-05\n",
            "Epoch 214/400\n",
            "720/720 [==============================] - 1s 877us/step - loss: 4.4638e-05\n",
            "Epoch 215/400\n",
            "720/720 [==============================] - 1s 854us/step - loss: 4.4678e-05\n",
            "Epoch 216/400\n",
            "720/720 [==============================] - 1s 891us/step - loss: 4.4776e-05\n",
            "Epoch 217/400\n",
            "720/720 [==============================] - 1s 854us/step - loss: 4.4719e-05\n",
            "Epoch 218/400\n",
            "720/720 [==============================] - 1s 887us/step - loss: 4.4672e-05\n",
            "Epoch 219/400\n",
            "720/720 [==============================] - 1s 824us/step - loss: 4.4826e-05\n",
            "Epoch 220/400\n",
            "720/720 [==============================] - 1s 853us/step - loss: 4.4739e-05\n",
            "Epoch 221/400\n",
            "720/720 [==============================] - 1s 825us/step - loss: 4.4679e-05\n",
            "Epoch 222/400\n",
            "720/720 [==============================] - 1s 823us/step - loss: 4.4716e-05\n",
            "Epoch 223/400\n",
            "720/720 [==============================] - 1s 838us/step - loss: 4.4735e-05\n",
            "Epoch 224/400\n",
            "720/720 [==============================] - 1s 830us/step - loss: 4.4625e-05\n",
            "Epoch 225/400\n",
            "720/720 [==============================] - 1s 830us/step - loss: 4.4690e-05\n",
            "Epoch 226/400\n",
            "720/720 [==============================] - 1s 832us/step - loss: 4.4745e-05\n",
            "Epoch 227/400\n",
            "720/720 [==============================] - 1s 836us/step - loss: 4.4726e-05\n",
            "Epoch 228/400\n",
            "720/720 [==============================] - 1s 846us/step - loss: 4.4765e-05\n",
            "Epoch 229/400\n",
            "720/720 [==============================] - 1s 836us/step - loss: 4.4645e-05\n",
            "Epoch 230/400\n",
            "720/720 [==============================] - 1s 858us/step - loss: 4.4702e-05\n",
            "Epoch 231/400\n",
            "720/720 [==============================] - 1s 847us/step - loss: 4.4819e-05\n",
            "Epoch 232/400\n",
            "720/720 [==============================] - 1s 844us/step - loss: 4.4476e-05\n",
            "Epoch 233/400\n",
            "720/720 [==============================] - 1s 816us/step - loss: 4.4595e-05\n",
            "Epoch 234/400\n",
            "720/720 [==============================] - 1s 828us/step - loss: 4.4803e-05\n",
            "Epoch 235/400\n",
            "720/720 [==============================] - 1s 843us/step - loss: 4.4744e-05\n",
            "Epoch 236/400\n",
            "720/720 [==============================] - 1s 822us/step - loss: 4.4657e-05\n",
            "Epoch 237/400\n",
            "720/720 [==============================] - 1s 817us/step - loss: 4.4748e-05\n",
            "Epoch 238/400\n",
            "720/720 [==============================] - 1s 817us/step - loss: 4.4807e-05\n",
            "Epoch 239/400\n",
            "720/720 [==============================] - 1s 842us/step - loss: 4.4646e-05\n",
            "Epoch 240/400\n",
            "720/720 [==============================] - 1s 832us/step - loss: 4.4588e-05\n",
            "Epoch 241/400\n",
            "720/720 [==============================] - 1s 845us/step - loss: 4.4692e-05\n",
            "Epoch 242/400\n",
            "720/720 [==============================] - 1s 841us/step - loss: 4.4718e-05\n",
            "Epoch 243/400\n",
            "720/720 [==============================] - 1s 822us/step - loss: 4.4787e-05\n",
            "Epoch 244/400\n",
            "720/720 [==============================] - 1s 833us/step - loss: 4.4745e-05\n",
            "Epoch 245/400\n",
            "720/720 [==============================] - 1s 840us/step - loss: 4.4786e-05\n",
            "Epoch 246/400\n",
            "720/720 [==============================] - 1s 852us/step - loss: 4.4668e-05\n",
            "Epoch 247/400\n",
            "720/720 [==============================] - 1s 845us/step - loss: 4.4597e-05\n",
            "Epoch 248/400\n",
            "720/720 [==============================] - 1s 864us/step - loss: 4.4718e-05\n",
            "Epoch 249/400\n",
            "720/720 [==============================] - 1s 843us/step - loss: 4.4698e-05\n",
            "Epoch 250/400\n",
            "720/720 [==============================] - 1s 839us/step - loss: 4.4788e-05\n",
            "Epoch 251/400\n",
            "720/720 [==============================] - 1s 845us/step - loss: 4.4772e-05\n",
            "Epoch 252/400\n",
            "720/720 [==============================] - 1s 867us/step - loss: 4.4691e-05\n",
            "Epoch 253/400\n",
            "720/720 [==============================] - 1s 831us/step - loss: 4.4687e-05\n",
            "Epoch 254/400\n",
            "720/720 [==============================] - 1s 835us/step - loss: 4.4632e-05\n",
            "Epoch 255/400\n",
            "720/720 [==============================] - 1s 843us/step - loss: 4.4709e-05\n",
            "Epoch 256/400\n",
            "720/720 [==============================] - 1s 905us/step - loss: 4.4703e-05\n",
            "Epoch 257/400\n",
            "720/720 [==============================] - 1s 887us/step - loss: 4.4691e-05\n",
            "Epoch 258/400\n",
            "720/720 [==============================] - 1s 889us/step - loss: 4.4652e-05\n",
            "Epoch 259/400\n",
            "720/720 [==============================] - 1s 930us/step - loss: 4.4712e-05\n",
            "Epoch 260/400\n",
            "720/720 [==============================] - 1s 904us/step - loss: 4.4673e-05\n",
            "Epoch 261/400\n",
            "720/720 [==============================] - 1s 884us/step - loss: 4.4665e-05\n",
            "Epoch 262/400\n",
            "720/720 [==============================] - 1s 914us/step - loss: 4.4719e-05\n",
            "Epoch 263/400\n",
            "720/720 [==============================] - 1s 891us/step - loss: 4.4805e-05\n",
            "Epoch 264/400\n",
            "720/720 [==============================] - 1s 922us/step - loss: 4.4946e-05\n",
            "Epoch 265/400\n",
            "720/720 [==============================] - 1s 890us/step - loss: 4.4704e-05\n",
            "Epoch 266/400\n",
            "720/720 [==============================] - 1s 884us/step - loss: 4.4727e-05\n",
            "Epoch 267/400\n",
            "720/720 [==============================] - 1s 920us/step - loss: 4.4701e-05\n",
            "Epoch 268/400\n",
            "720/720 [==============================] - 1s 953us/step - loss: 4.4848e-05\n",
            "Epoch 269/400\n",
            "720/720 [==============================] - 1s 884us/step - loss: 4.4816e-05\n",
            "Epoch 270/400\n",
            "720/720 [==============================] - 1s 882us/step - loss: 4.4695e-05\n",
            "Epoch 271/400\n",
            "720/720 [==============================] - 1s 883us/step - loss: 4.4824e-05\n",
            "Epoch 272/400\n",
            "720/720 [==============================] - 1s 867us/step - loss: 4.4798e-05\n",
            "Epoch 273/400\n",
            "720/720 [==============================] - 1s 897us/step - loss: 4.4792e-05\n",
            "Epoch 274/400\n",
            "720/720 [==============================] - 1s 862us/step - loss: 4.4655e-05\n",
            "Epoch 275/400\n",
            "720/720 [==============================] - 1s 880us/step - loss: 4.4662e-05\n",
            "Epoch 276/400\n",
            "720/720 [==============================] - 1s 902us/step - loss: 4.4754e-05\n",
            "Epoch 277/400\n",
            "720/720 [==============================] - 1s 849us/step - loss: 4.4642e-05\n",
            "Epoch 278/400\n",
            "720/720 [==============================] - 1s 874us/step - loss: 4.4784e-05\n",
            "Epoch 279/400\n",
            "720/720 [==============================] - 1s 871us/step - loss: 4.4735e-05\n",
            "Epoch 280/400\n",
            "720/720 [==============================] - 1s 887us/step - loss: 4.4701e-05\n",
            "Epoch 281/400\n",
            "720/720 [==============================] - 1s 887us/step - loss: 4.4699e-05\n",
            "Epoch 282/400\n",
            "720/720 [==============================] - 1s 857us/step - loss: 4.4687e-05\n",
            "Epoch 283/400\n",
            "720/720 [==============================] - 1s 877us/step - loss: 4.4617e-05\n",
            "Epoch 284/400\n",
            "720/720 [==============================] - 1s 926us/step - loss: 4.4634e-05\n",
            "Epoch 285/400\n",
            "720/720 [==============================] - 1s 828us/step - loss: 4.4961e-05\n",
            "Epoch 286/400\n",
            "720/720 [==============================] - 1s 844us/step - loss: 4.4872e-05\n",
            "Epoch 287/400\n",
            "720/720 [==============================] - 1s 792us/step - loss: 4.4569e-05\n",
            "Epoch 288/400\n",
            "720/720 [==============================] - 1s 847us/step - loss: 4.4649e-05\n",
            "Epoch 289/400\n",
            "720/720 [==============================] - 1s 861us/step - loss: 4.4590e-05\n",
            "Epoch 290/400\n",
            "720/720 [==============================] - 1s 853us/step - loss: 4.4745e-05\n",
            "Epoch 291/400\n",
            "720/720 [==============================] - 1s 837us/step - loss: 4.4607e-05\n",
            "Epoch 292/400\n",
            "720/720 [==============================] - 1s 839us/step - loss: 4.4833e-05\n",
            "Epoch 293/400\n",
            "720/720 [==============================] - 1s 829us/step - loss: 4.4776e-05\n",
            "Epoch 294/400\n",
            "720/720 [==============================] - 1s 854us/step - loss: 4.4697e-05\n",
            "Epoch 295/400\n",
            "720/720 [==============================] - 1s 818us/step - loss: 4.4679e-05\n",
            "Epoch 296/400\n",
            "720/720 [==============================] - 1s 830us/step - loss: 4.4603e-05\n",
            "Epoch 297/400\n",
            "720/720 [==============================] - 1s 837us/step - loss: 4.4776e-05\n",
            "Epoch 298/400\n",
            "720/720 [==============================] - 1s 838us/step - loss: 4.4621e-05\n",
            "Epoch 299/400\n",
            "720/720 [==============================] - 1s 816us/step - loss: 4.4657e-05\n",
            "Epoch 300/400\n",
            "720/720 [==============================] - 1s 882us/step - loss: 4.4682e-05\n",
            "Epoch 301/400\n",
            "720/720 [==============================] - 1s 866us/step - loss: 4.4684e-05\n",
            "Epoch 302/400\n",
            "720/720 [==============================] - 1s 860us/step - loss: 4.4767e-05\n",
            "Epoch 303/400\n",
            "720/720 [==============================] - 1s 872us/step - loss: 4.4670e-05\n",
            "Epoch 304/400\n",
            "720/720 [==============================] - 1s 839us/step - loss: 4.4743e-05\n",
            "Epoch 305/400\n",
            "720/720 [==============================] - 1s 818us/step - loss: 4.4676e-05\n",
            "Epoch 306/400\n",
            "720/720 [==============================] - 1s 828us/step - loss: 4.4725e-05\n",
            "Epoch 307/400\n",
            "720/720 [==============================] - 1s 853us/step - loss: 4.4810e-05\n",
            "Epoch 308/400\n",
            "720/720 [==============================] - 1s 848us/step - loss: 4.4711e-05\n",
            "Epoch 309/400\n",
            "720/720 [==============================] - 1s 845us/step - loss: 4.4679e-05\n",
            "Epoch 310/400\n",
            "720/720 [==============================] - 1s 840us/step - loss: 4.4565e-05\n",
            "Epoch 311/400\n",
            "720/720 [==============================] - 1s 841us/step - loss: 4.4634e-05\n",
            "Epoch 312/400\n",
            "720/720 [==============================] - 1s 816us/step - loss: 4.4691e-05\n",
            "Epoch 313/400\n",
            "720/720 [==============================] - 1s 851us/step - loss: 4.4674e-05\n",
            "Epoch 314/400\n",
            "720/720 [==============================] - 1s 841us/step - loss: 4.4652e-05\n",
            "Epoch 315/400\n",
            "720/720 [==============================] - 1s 856us/step - loss: 4.4721e-05\n",
            "Epoch 316/400\n",
            "720/720 [==============================] - 1s 873us/step - loss: 4.4699e-05\n",
            "Epoch 317/400\n",
            "720/720 [==============================] - 1s 828us/step - loss: 4.4725e-05\n",
            "Epoch 318/400\n",
            "720/720 [==============================] - 1s 883us/step - loss: 4.4762e-05\n",
            "Epoch 319/400\n",
            "720/720 [==============================] - 1s 855us/step - loss: 4.4676e-05\n",
            "Epoch 320/400\n",
            "720/720 [==============================] - 1s 807us/step - loss: 4.4751e-05\n",
            "Epoch 321/400\n",
            "720/720 [==============================] - 1s 851us/step - loss: 4.4684e-05\n",
            "Epoch 322/400\n",
            "720/720 [==============================] - 1s 819us/step - loss: 4.4647e-05\n",
            "Epoch 323/400\n",
            "720/720 [==============================] - 1s 839us/step - loss: 4.4590e-05\n",
            "Epoch 324/400\n",
            "720/720 [==============================] - 1s 848us/step - loss: 4.4638e-05\n",
            "Epoch 325/400\n",
            "720/720 [==============================] - 1s 845us/step - loss: 4.4705e-05\n",
            "Epoch 326/400\n",
            "720/720 [==============================] - 1s 865us/step - loss: 4.4685e-05\n",
            "Epoch 327/400\n",
            "720/720 [==============================] - 1s 834us/step - loss: 4.4728e-05\n",
            "Epoch 328/400\n",
            "720/720 [==============================] - 1s 869us/step - loss: 4.4641e-05\n",
            "Epoch 329/400\n",
            "720/720 [==============================] - 1s 866us/step - loss: 4.4534e-05\n",
            "Epoch 330/400\n",
            "720/720 [==============================] - 1s 818us/step - loss: 4.4820e-05\n",
            "Epoch 331/400\n",
            "720/720 [==============================] - 1s 847us/step - loss: 4.4783e-05\n",
            "Epoch 332/400\n",
            "720/720 [==============================] - 1s 824us/step - loss: 4.4717e-05\n",
            "Epoch 333/400\n",
            "720/720 [==============================] - 1s 824us/step - loss: 4.4770e-05\n",
            "Epoch 334/400\n",
            "720/720 [==============================] - 1s 836us/step - loss: 4.4672e-05\n",
            "Epoch 335/400\n",
            "720/720 [==============================] - 1s 902us/step - loss: 4.4632e-05\n",
            "Epoch 336/400\n",
            "720/720 [==============================] - 1s 861us/step - loss: 4.4728e-05\n",
            "Epoch 337/400\n",
            "720/720 [==============================] - 1s 838us/step - loss: 4.4818e-05\n",
            "Epoch 338/400\n",
            "720/720 [==============================] - 1s 872us/step - loss: 4.4665e-05\n",
            "Epoch 339/400\n",
            "720/720 [==============================] - 1s 848us/step - loss: 4.4767e-05\n",
            "Epoch 340/400\n",
            "720/720 [==============================] - 1s 842us/step - loss: 4.4662e-05\n",
            "Epoch 341/400\n",
            "720/720 [==============================] - 1s 857us/step - loss: 4.4619e-05\n",
            "Epoch 342/400\n",
            "720/720 [==============================] - 1s 827us/step - loss: 4.4594e-05\n",
            "Epoch 343/400\n",
            "720/720 [==============================] - 1s 879us/step - loss: 4.4722e-05\n",
            "Epoch 344/400\n",
            "720/720 [==============================] - 1s 838us/step - loss: 4.4669e-05\n",
            "Epoch 345/400\n",
            "720/720 [==============================] - 1s 842us/step - loss: 4.4739e-05\n",
            "Epoch 346/400\n",
            "720/720 [==============================] - 1s 860us/step - loss: 4.4608e-05\n",
            "Epoch 347/400\n",
            "720/720 [==============================] - 1s 843us/step - loss: 4.4822e-05\n",
            "Epoch 348/400\n",
            "720/720 [==============================] - 1s 853us/step - loss: 4.4798e-05\n",
            "Epoch 349/400\n",
            "720/720 [==============================] - 1s 855us/step - loss: 4.4674e-05\n",
            "Epoch 350/400\n",
            "720/720 [==============================] - 1s 847us/step - loss: 4.4673e-05\n",
            "Epoch 351/400\n",
            "720/720 [==============================] - 1s 844us/step - loss: 4.4768e-05\n",
            "Epoch 352/400\n",
            "720/720 [==============================] - 1s 865us/step - loss: 4.4621e-05\n",
            "Epoch 353/400\n",
            "720/720 [==============================] - 1s 847us/step - loss: 4.4684e-05\n",
            "Epoch 354/400\n",
            "720/720 [==============================] - 1s 868us/step - loss: 4.4651e-05\n",
            "Epoch 355/400\n",
            "720/720 [==============================] - 1s 836us/step - loss: 4.4637e-05\n",
            "Epoch 356/400\n",
            "720/720 [==============================] - 1s 869us/step - loss: 4.4766e-05\n",
            "Epoch 357/400\n",
            "720/720 [==============================] - 1s 863us/step - loss: 4.4877e-05\n",
            "Epoch 358/400\n",
            "720/720 [==============================] - 1s 862us/step - loss: 4.4731e-05\n",
            "Epoch 359/400\n",
            "720/720 [==============================] - 1s 841us/step - loss: 4.4710e-05\n",
            "Epoch 360/400\n",
            "720/720 [==============================] - 1s 834us/step - loss: 4.4719e-05\n",
            "Epoch 361/400\n",
            "720/720 [==============================] - 1s 849us/step - loss: 4.4725e-05\n",
            "Epoch 362/400\n",
            "720/720 [==============================] - 1s 863us/step - loss: 4.4633e-05\n",
            "Epoch 363/400\n",
            "720/720 [==============================] - 1s 848us/step - loss: 4.4633e-05\n",
            "Epoch 364/400\n",
            "720/720 [==============================] - 1s 874us/step - loss: 4.4702e-05\n",
            "Epoch 365/400\n",
            "720/720 [==============================] - 1s 841us/step - loss: 4.4718e-05\n",
            "Epoch 366/400\n",
            "720/720 [==============================] - 1s 858us/step - loss: 4.4723e-05\n",
            "Epoch 367/400\n",
            "720/720 [==============================] - 1s 863us/step - loss: 4.4743e-05\n",
            "Epoch 368/400\n",
            "720/720 [==============================] - 1s 835us/step - loss: 4.4586e-05\n",
            "Epoch 369/400\n",
            "720/720 [==============================] - 1s 859us/step - loss: 4.4763e-05\n",
            "Epoch 370/400\n",
            "720/720 [==============================] - 1s 852us/step - loss: 4.4583e-05\n",
            "Epoch 371/400\n",
            "720/720 [==============================] - 1s 858us/step - loss: 4.4635e-05\n",
            "Epoch 372/400\n",
            "720/720 [==============================] - 1s 851us/step - loss: 4.4606e-05\n",
            "Epoch 373/400\n",
            "720/720 [==============================] - 1s 860us/step - loss: 4.4740e-05\n",
            "Epoch 374/400\n",
            "720/720 [==============================] - 1s 867us/step - loss: 4.4769e-05\n",
            "Epoch 375/400\n",
            "720/720 [==============================] - 1s 862us/step - loss: 4.4793e-05\n",
            "Epoch 376/400\n",
            "720/720 [==============================] - 1s 852us/step - loss: 4.4658e-05\n",
            "Epoch 377/400\n",
            "720/720 [==============================] - 1s 838us/step - loss: 4.4713e-05\n",
            "Epoch 378/400\n",
            "720/720 [==============================] - 1s 856us/step - loss: 4.4722e-05\n",
            "Epoch 379/400\n",
            "720/720 [==============================] - 1s 844us/step - loss: 4.4703e-05\n",
            "Epoch 380/400\n",
            "720/720 [==============================] - 1s 842us/step - loss: 4.4715e-05\n",
            "Epoch 381/400\n",
            "720/720 [==============================] - 1s 832us/step - loss: 4.4618e-05\n",
            "Epoch 382/400\n",
            "720/720 [==============================] - 1s 876us/step - loss: 4.4744e-05\n",
            "Epoch 383/400\n",
            "720/720 [==============================] - 1s 828us/step - loss: 4.4689e-05\n",
            "Epoch 384/400\n",
            "720/720 [==============================] - 1s 885us/step - loss: 4.4747e-05\n",
            "Epoch 385/400\n",
            "720/720 [==============================] - 1s 820us/step - loss: 4.4737e-05\n",
            "Epoch 386/400\n",
            "720/720 [==============================] - 1s 876us/step - loss: 4.4600e-05\n",
            "Epoch 387/400\n",
            "720/720 [==============================] - 1s 865us/step - loss: 4.4677e-05\n",
            "Epoch 388/400\n",
            "720/720 [==============================] - 1s 850us/step - loss: 4.4640e-05\n",
            "Epoch 389/400\n",
            "720/720 [==============================] - 1s 844us/step - loss: 4.4714e-05\n",
            "Epoch 390/400\n",
            "720/720 [==============================] - 1s 823us/step - loss: 4.4744e-05\n",
            "Epoch 391/400\n",
            "720/720 [==============================] - 1s 842us/step - loss: 4.4699e-05\n",
            "Epoch 392/400\n",
            "720/720 [==============================] - 1s 827us/step - loss: 4.4623e-05\n",
            "Epoch 393/400\n",
            "720/720 [==============================] - 1s 825us/step - loss: 4.4756e-05\n",
            "Epoch 394/400\n",
            "720/720 [==============================] - 1s 835us/step - loss: 4.4726e-05\n",
            "Epoch 395/400\n",
            "720/720 [==============================] - 1s 826us/step - loss: 4.4652e-05\n",
            "Epoch 396/400\n",
            "720/720 [==============================] - 1s 835us/step - loss: 4.4762e-05\n",
            "Epoch 397/400\n",
            "720/720 [==============================] - 1s 837us/step - loss: 4.4836e-05\n",
            "Epoch 398/400\n",
            "720/720 [==============================] - 1s 837us/step - loss: 4.4575e-05\n",
            "Epoch 399/400\n",
            "720/720 [==============================] - 1s 840us/step - loss: 4.4681e-05\n",
            "Epoch 400/400\n",
            "720/720 [==============================] - 1s 822us/step - loss: 4.4710e-05\n"
          ],
          "name": "stdout"
        },
        {
          "output_type": "execute_result",
          "data": {
            "text/plain": [
              "<keras.callbacks.callbacks.History at 0x7f79ee002f60>"
            ]
          },
          "metadata": {
            "tags": []
          },
          "execution_count": 19
        }
      ]
    },
    {
      "cell_type": "code",
      "metadata": {
        "id": "ofyIL9-HLGaA",
        "colab_type": "code",
        "outputId": "8ef248e1-0916-494b-8028-9099bfd94162",
        "colab": {
          "base_uri": "https://localhost:8080/",
          "height": 530
        }
      },
      "source": [
        "y_predicted = []\n",
        "y_predicted = regressor.predict(x_test)\n",
        "predicted = pd.DataFrame(np.reshape(y_predicted,(400,4)))\n",
        "predicted.iloc[:,1:3].plot()\n",
        "pd.DataFrame(np.reshape(x_test,(400,4))).iloc[:,1:3].plot()"
      ],
      "execution_count": 0,
      "outputs": [
        {
          "output_type": "execute_result",
          "data": {
            "text/plain": [
              "<matplotlib.axes._subplots.AxesSubplot at 0x7faf1925a550>"
            ]
          },
          "metadata": {
            "tags": []
          },
          "execution_count": 16
        },
        {
          "output_type": "display_data",
          "data": {
            "image/png": "[encoded data removed]",
            "text/plain": [
              "<Figure size 432x288 with 1 Axes>"
            ]
          },
          "metadata": {
            "tags": [],
            "needs_background": "light"
          }
        },
        {
          "output_type": "display_data",
          "data": {
            "image/png": "[encoded data removed]",
            "text/plain": [
              "<Figure size 432x288 with 1 Axes>"
            ]
          },
          "metadata": {
            "tags": [],
            "needs_background": "light"
          }
        }
      ]
    },
    {
      "cell_type": "code",
      "metadata": {
        "id": "h5nOl1vexRBN",
        "colab_type": "code",
        "outputId": "e437c786-817d-4321-f712-9df6668665cb",
        "colab": {
          "base_uri": "https://localhost:8080/",
          "height": 34
        }
      },
      "source": [
        "x_train = np.reshape(x_train,(-1,1,4))\n",
        "y_train = np.reshape(y_train,(-1,1,4))\n",
        "y_train.shape"
      ],
      "execution_count": 0,
      "outputs": [
        {
          "output_type": "execute_result",
          "data": {
            "text/plain": [
              "(14400, 1, 4)"
            ]
          },
          "metadata": {
            "tags": []
          },
          "execution_count": 17
        }
      ]
    },
    {
      "cell_type": "code",
      "metadata": {
        "colab_type": "code",
        "id": "7HnalPbSyTFG",
        "colab": {}
      },
      "source": [
        "# Initializing the RNN\n",
        "regressor = Sequential()"
      ],
      "execution_count": 0,
      "outputs": []
    },
    {
      "cell_type": "code",
      "metadata": {
        "colab_type": "code",
        "id": "VyDPEWWdyTFJ",
        "colab": {}
      },
      "source": [
        "# adding first layer\n",
        "regressor.add(LSTM(units=20, return_sequences=True, stateful=True, batch_input_shape=(400,1,4), input_shape=( x_train.shape[1],x_train.shape[2])))\n",
        "regressor.add(Dropout(0.2))"
      ],
      "execution_count": 0,
      "outputs": []
    },
    {
      "cell_type": "code",
      "metadata": {
        "colab_type": "code",
        "id": "_SCvQd2qyTFK",
        "colab": {}
      },
      "source": [
        "# adding second layer\n",
        "regressor.add(LSTM(units=20, return_sequences=True, stateful=True))\n",
        "regressor.add(Dropout(0.2))"
      ],
      "execution_count": 0,
      "outputs": []
    },
    {
      "cell_type": "code",
      "metadata": {
        "colab_type": "code",
        "id": "GUQpsHFsyTFM",
        "colab": {}
      },
      "source": [
        "# adding third layer\n",
        "regressor.add(LSTM(units=20, return_sequences=True, stateful=True))\n",
        "regressor.add(Dropout(0.2))"
      ],
      "execution_count": 0,
      "outputs": []
    },
    {
      "cell_type": "code",
      "metadata": {
        "colab_type": "code",
        "id": "tu8W0xTSyTFO",
        "colab": {}
      },
      "source": [
        "# adding output layer\n",
        "regressor.add(Dense( units=4 ))"
      ],
      "execution_count": 0,
      "outputs": []
    },
    {
      "cell_type": "code",
      "metadata": {
        "colab_type": "code",
        "id": "WdwhUfhkyTFQ",
        "colab": {}
      },
      "source": [
        "# compile model\n",
        "regressor.compile( optimizer= 'adam', loss= 'mean_squared_error')\n"
      ],
      "execution_count": 0,
      "outputs": []
    },
    {
      "cell_type": "code",
      "metadata": {
        "id": "E9YPRrr6yhIc",
        "colab_type": "code",
        "outputId": "d8677f6c-5878-46eb-c189-6e4ea7bbf29e",
        "colab": {
          "base_uri": "https://localhost:8080/",
          "height": 1000
        }
      },
      "source": [
        "regressor.fit( x_train, y_train, epochs=400, batch_size= 400 )"
      ],
      "execution_count": 0,
      "outputs": [
        {
          "output_type": "stream",
          "text": [
            "Epoch 1/400\n",
            "14400/14400 [==============================] - 1s 52us/step - loss: 1.1318e-04\n",
            "Epoch 2/400\n",
            "14400/14400 [==============================] - 0s 14us/step - loss: 1.3820e-04\n",
            "Epoch 3/400\n",
            "14400/14400 [==============================] - 0s 13us/step - loss: 8.4359e-05\n",
            "Epoch 4/400\n",
            "14400/14400 [==============================] - 0s 14us/step - loss: 6.0330e-05\n",
            "Epoch 5/400\n",
            "14400/14400 [==============================] - 0s 14us/step - loss: 6.0320e-05\n",
            "Epoch 6/400\n",
            "14400/14400 [==============================] - 0s 14us/step - loss: 6.1099e-05\n",
            "Epoch 7/400\n",
            "14400/14400 [==============================] - 0s 13us/step - loss: 5.7041e-05\n",
            "Epoch 8/400\n",
            "14400/14400 [==============================] - 0s 12us/step - loss: 5.1420e-05\n",
            "Epoch 9/400\n",
            "14400/14400 [==============================] - 0s 13us/step - loss: 4.9918e-05\n",
            "Epoch 10/400\n",
            "14400/14400 [==============================] - 0s 13us/step - loss: 4.9347e-05\n",
            "Epoch 11/400\n",
            "14400/14400 [==============================] - 0s 13us/step - loss: 4.9255e-05\n",
            "Epoch 12/400\n",
            "14400/14400 [==============================] - 0s 13us/step - loss: 4.9213e-05\n",
            "Epoch 13/400\n",
            "14400/14400 [==============================] - 0s 13us/step - loss: 4.9317e-05\n",
            "Epoch 14/400\n",
            "14400/14400 [==============================] - 0s 12us/step - loss: 4.9438e-05\n",
            "Epoch 15/400\n",
            "14400/14400 [==============================] - 0s 13us/step - loss: 4.9565e-05\n",
            "Epoch 16/400\n",
            "14400/14400 [==============================] - 0s 12us/step - loss: 4.9666e-05\n",
            "Epoch 17/400\n",
            "14400/14400 [==============================] - 0s 13us/step - loss: 4.9345e-05\n",
            "Epoch 18/400\n",
            "14400/14400 [==============================] - 0s 13us/step - loss: 4.9516e-05\n",
            "Epoch 19/400\n",
            "14400/14400 [==============================] - 0s 13us/step - loss: 4.9356e-05\n",
            "Epoch 20/400\n",
            "14400/14400 [==============================] - 0s 14us/step - loss: 4.9219e-05\n",
            "Epoch 21/400\n",
            "14400/14400 [==============================] - 0s 15us/step - loss: 4.9308e-05\n",
            "Epoch 22/400\n",
            "14400/14400 [==============================] - 0s 14us/step - loss: 4.9448e-05\n",
            "Epoch 23/400\n",
            "14400/14400 [==============================] - 0s 13us/step - loss: 4.9469e-05\n",
            "Epoch 24/400\n",
            "14400/14400 [==============================] - 0s 12us/step - loss: 4.9373e-05\n",
            "Epoch 25/400\n",
            "14400/14400 [==============================] - 0s 13us/step - loss: 4.9363e-05\n",
            "Epoch 26/400\n",
            "14400/14400 [==============================] - 0s 13us/step - loss: 4.9436e-05\n",
            "Epoch 27/400\n",
            "14400/14400 [==============================] - 0s 13us/step - loss: 4.9366e-05\n",
            "Epoch 28/400\n",
            "14400/14400 [==============================] - 0s 13us/step - loss: 4.9520e-05\n",
            "Epoch 29/400\n",
            "14400/14400 [==============================] - 0s 13us/step - loss: 4.9822e-05\n",
            "Epoch 30/400\n",
            "14400/14400 [==============================] - 0s 12us/step - loss: 4.9639e-05\n",
            "Epoch 31/400\n",
            "14400/14400 [==============================] - 0s 13us/step - loss: 4.9904e-05\n",
            "Epoch 32/400\n",
            "14400/14400 [==============================] - 0s 13us/step - loss: 5.0421e-05\n",
            "Epoch 33/400\n",
            "14400/14400 [==============================] - 0s 13us/step - loss: 5.0580e-05\n",
            "Epoch 34/400\n",
            "14400/14400 [==============================] - 0s 13us/step - loss: 5.0699e-05\n",
            "Epoch 35/400\n",
            "14400/14400 [==============================] - 0s 14us/step - loss: 4.9928e-05\n",
            "Epoch 36/400\n",
            "14400/14400 [==============================] - 0s 14us/step - loss: 4.9655e-05\n",
            "Epoch 37/400\n",
            "14400/14400 [==============================] - 0s 14us/step - loss: 4.9568e-05\n",
            "Epoch 38/400\n",
            "14400/14400 [==============================] - 0s 13us/step - loss: 4.9594e-05\n",
            "Epoch 39/400\n",
            "14400/14400 [==============================] - 0s 13us/step - loss: 4.9603e-05\n",
            "Epoch 40/400\n",
            "14400/14400 [==============================] - 0s 14us/step - loss: 4.9601e-05\n",
            "Epoch 41/400\n",
            "14400/14400 [==============================] - 0s 13us/step - loss: 4.9832e-05\n",
            "Epoch 42/400\n",
            "14400/14400 [==============================] - 0s 14us/step - loss: 5.0510e-05\n",
            "Epoch 43/400\n",
            "14400/14400 [==============================] - 0s 14us/step - loss: 5.1150e-05\n",
            "Epoch 44/400\n",
            "14400/14400 [==============================] - 0s 14us/step - loss: 5.1239e-05\n",
            "Epoch 45/400\n",
            "14400/14400 [==============================] - 0s 13us/step - loss: 5.0421e-05\n",
            "Epoch 46/400\n",
            "14400/14400 [==============================] - 0s 13us/step - loss: 4.9766e-05\n",
            "Epoch 47/400\n",
            "14400/14400 [==============================] - 0s 13us/step - loss: 4.9437e-05\n",
            "Epoch 48/400\n",
            "14400/14400 [==============================] - 0s 13us/step - loss: 4.9355e-05\n",
            "Epoch 49/400\n",
            "14400/14400 [==============================] - 0s 14us/step - loss: 4.9646e-05\n",
            "Epoch 50/400\n",
            "14400/14400 [==============================] - 0s 13us/step - loss: 4.9934e-05\n",
            "Epoch 51/400\n",
            "14400/14400 [==============================] - 0s 13us/step - loss: 5.0047e-05\n",
            "Epoch 52/400\n",
            "14400/14400 [==============================] - 0s 13us/step - loss: 4.9932e-05\n",
            "Epoch 53/400\n",
            "14400/14400 [==============================] - 0s 13us/step - loss: 4.9935e-05\n",
            "Epoch 54/400\n",
            "14400/14400 [==============================] - 0s 12us/step - loss: 5.0012e-05\n",
            "Epoch 55/400\n",
            "14400/14400 [==============================] - 0s 14us/step - loss: 4.9681e-05\n",
            "Epoch 56/400\n",
            "14400/14400 [==============================] - 0s 14us/step - loss: 4.9568e-05\n",
            "Epoch 57/400\n",
            "14400/14400 [==============================] - 0s 14us/step - loss: 4.9402e-05\n",
            "Epoch 58/400\n",
            "14400/14400 [==============================] - 0s 14us/step - loss: 4.9886e-05\n",
            "Epoch 59/400\n",
            "14400/14400 [==============================] - 0s 13us/step - loss: 4.9898e-05\n",
            "Epoch 60/400\n",
            "14400/14400 [==============================] - 0s 13us/step - loss: 5.0052e-05\n",
            "Epoch 61/400\n",
            "14400/14400 [==============================] - 0s 12us/step - loss: 5.1057e-05\n",
            "Epoch 62/400\n",
            "14400/14400 [==============================] - 0s 13us/step - loss: 5.1502e-05\n",
            "Epoch 63/400\n",
            "14400/14400 [==============================] - 0s 13us/step - loss: 5.0148e-05\n",
            "Epoch 64/400\n",
            "14400/14400 [==============================] - 0s 13us/step - loss: 4.9623e-05\n",
            "Epoch 65/400\n",
            "14400/14400 [==============================] - 0s 12us/step - loss: 4.9674e-05\n",
            "Epoch 66/400\n",
            "14400/14400 [==============================] - 0s 13us/step - loss: 4.9414e-05\n",
            "Epoch 67/400\n",
            "14400/14400 [==============================] - 0s 14us/step - loss: 4.9367e-05\n",
            "Epoch 68/400\n",
            "14400/14400 [==============================] - 0s 14us/step - loss: 4.9441e-05\n",
            "Epoch 69/400\n",
            "14400/14400 [==============================] - 0s 14us/step - loss: 4.9345e-05\n",
            "Epoch 70/400\n",
            "14400/14400 [==============================] - 0s 13us/step - loss: 4.9309e-05\n",
            "Epoch 71/400\n",
            "14400/14400 [==============================] - 0s 12us/step - loss: 4.9303e-05\n",
            "Epoch 72/400\n",
            "14400/14400 [==============================] - 0s 13us/step - loss: 4.9626e-05\n",
            "Epoch 73/400\n",
            "14400/14400 [==============================] - 0s 13us/step - loss: 4.9975e-05\n",
            "Epoch 74/400\n",
            "14400/14400 [==============================] - 0s 13us/step - loss: 4.9743e-05\n",
            "Epoch 75/400\n",
            "14400/14400 [==============================] - 0s 13us/step - loss: 5.0538e-05\n",
            "Epoch 76/400\n",
            "14400/14400 [==============================] - 0s 13us/step - loss: 5.0958e-05\n",
            "Epoch 77/400\n",
            "14400/14400 [==============================] - 0s 13us/step - loss: 5.0326e-05\n",
            "Epoch 78/400\n",
            "14400/14400 [==============================] - 0s 13us/step - loss: 4.9683e-05\n",
            "Epoch 79/400\n",
            "14400/14400 [==============================] - 0s 13us/step - loss: 4.9444e-05\n",
            "Epoch 80/400\n",
            "14400/14400 [==============================] - 0s 12us/step - loss: 4.9533e-05\n",
            "Epoch 81/400\n",
            "14400/14400 [==============================] - 0s 12us/step - loss: 4.9371e-05\n",
            "Epoch 82/400\n",
            "14400/14400 [==============================] - 0s 12us/step - loss: 4.9879e-05\n",
            "Epoch 83/400\n",
            "14400/14400 [==============================] - 0s 13us/step - loss: 4.9843e-05\n",
            "Epoch 84/400\n",
            "14400/14400 [==============================] - 0s 13us/step - loss: 4.9373e-05\n",
            "Epoch 85/400\n",
            "14400/14400 [==============================] - 0s 14us/step - loss: 4.9740e-05\n",
            "Epoch 86/400\n",
            "14400/14400 [==============================] - 0s 13us/step - loss: 4.9716e-05\n",
            "Epoch 87/400\n",
            "14400/14400 [==============================] - 0s 13us/step - loss: 4.9762e-05\n",
            "Epoch 88/400\n",
            "14400/14400 [==============================] - 0s 13us/step - loss: 4.9905e-05\n",
            "Epoch 89/400\n",
            "14400/14400 [==============================] - 0s 13us/step - loss: 4.9586e-05\n",
            "Epoch 90/400\n",
            "14400/14400 [==============================] - 0s 14us/step - loss: 4.9438e-05\n",
            "Epoch 91/400\n",
            "14400/14400 [==============================] - 0s 13us/step - loss: 4.9428e-05\n",
            "Epoch 92/400\n",
            "14400/14400 [==============================] - 0s 12us/step - loss: 4.9256e-05\n",
            "Epoch 93/400\n",
            "14400/14400 [==============================] - 0s 12us/step - loss: 4.9200e-05\n",
            "Epoch 94/400\n",
            "14400/14400 [==============================] - 0s 12us/step - loss: 4.9189e-05\n",
            "Epoch 95/400\n",
            "14400/14400 [==============================] - 0s 12us/step - loss: 4.9201e-05\n",
            "Epoch 96/400\n",
            "14400/14400 [==============================] - 0s 13us/step - loss: 4.9370e-05\n",
            "Epoch 97/400\n",
            "14400/14400 [==============================] - 0s 13us/step - loss: 5.0171e-05\n",
            "Epoch 98/400\n",
            "14400/14400 [==============================] - 0s 12us/step - loss: 5.1080e-05\n",
            "Epoch 99/400\n",
            "14400/14400 [==============================] - 0s 12us/step - loss: 5.0115e-05\n",
            "Epoch 100/400\n",
            "14400/14400 [==============================] - 0s 12us/step - loss: 4.9516e-05\n",
            "Epoch 101/400\n",
            "14400/14400 [==============================] - 0s 12us/step - loss: 4.9372e-05\n",
            "Epoch 102/400\n",
            "14400/14400 [==============================] - 0s 12us/step - loss: 4.9164e-05\n",
            "Epoch 103/400\n",
            "14400/14400 [==============================] - 0s 13us/step - loss: 4.9302e-05\n",
            "Epoch 104/400\n",
            "14400/14400 [==============================] - 0s 14us/step - loss: 4.9309e-05\n",
            "Epoch 105/400\n",
            "14400/14400 [==============================] - 0s 13us/step - loss: 4.9401e-05\n",
            "Epoch 106/400\n",
            "14400/14400 [==============================] - 0s 13us/step - loss: 4.9212e-05\n",
            "Epoch 107/400\n",
            "14400/14400 [==============================] - 0s 13us/step - loss: 4.9466e-05\n",
            "Epoch 108/400\n",
            "14400/14400 [==============================] - 0s 14us/step - loss: 4.9494e-05\n",
            "Epoch 109/400\n",
            "14400/14400 [==============================] - 0s 13us/step - loss: 4.9021e-05\n",
            "Epoch 110/400\n",
            "14400/14400 [==============================] - 0s 14us/step - loss: 4.8866e-05\n",
            "Epoch 111/400\n",
            "14400/14400 [==============================] - 0s 13us/step - loss: 4.9501e-05\n",
            "Epoch 112/400\n",
            "14400/14400 [==============================] - 0s 13us/step - loss: 4.9666e-05\n",
            "Epoch 113/400\n",
            "14400/14400 [==============================] - 0s 13us/step - loss: 4.9104e-05\n",
            "Epoch 114/400\n",
            "14400/14400 [==============================] - 0s 13us/step - loss: 4.8627e-05\n",
            "Epoch 115/400\n",
            "14400/14400 [==============================] - 0s 13us/step - loss: 4.8386e-05\n",
            "Epoch 116/400\n",
            "14400/14400 [==============================] - 0s 14us/step - loss: 4.8314e-05\n",
            "Epoch 117/400\n",
            "14400/14400 [==============================] - 0s 15us/step - loss: 4.8781e-05\n",
            "Epoch 118/400\n",
            "14400/14400 [==============================] - 0s 13us/step - loss: 4.8767e-05\n",
            "Epoch 119/400\n",
            "14400/14400 [==============================] - 0s 13us/step - loss: 4.8176e-05\n",
            "Epoch 120/400\n",
            "14400/14400 [==============================] - 0s 13us/step - loss: 4.7971e-05\n",
            "Epoch 121/400\n",
            "14400/14400 [==============================] - 0s 14us/step - loss: 4.7174e-05\n",
            "Epoch 122/400\n",
            "14400/14400 [==============================] - 0s 14us/step - loss: 4.6966e-05\n",
            "Epoch 123/400\n",
            "14400/14400 [==============================] - 0s 14us/step - loss: 4.6626e-05\n",
            "Epoch 124/400\n",
            "14400/14400 [==============================] - 0s 14us/step - loss: 4.6450e-05\n",
            "Epoch 125/400\n",
            "14400/14400 [==============================] - 0s 13us/step - loss: 4.6328e-05\n",
            "Epoch 126/400\n",
            "14400/14400 [==============================] - 0s 12us/step - loss: 4.6177e-05\n",
            "Epoch 127/400\n",
            "14400/14400 [==============================] - 0s 12us/step - loss: 4.5992e-05\n",
            "Epoch 128/400\n",
            "14400/14400 [==============================] - 0s 13us/step - loss: 4.5938e-05\n",
            "Epoch 129/400\n",
            "14400/14400 [==============================] - 0s 13us/step - loss: 4.5940e-05\n",
            "Epoch 130/400\n",
            "14400/14400 [==============================] - 0s 13us/step - loss: 4.5849e-05\n",
            "Epoch 131/400\n",
            "14400/14400 [==============================] - 0s 14us/step - loss: 4.5965e-05\n",
            "Epoch 132/400\n",
            "14400/14400 [==============================] - 0s 14us/step - loss: 4.5805e-05\n",
            "Epoch 133/400\n",
            "14400/14400 [==============================] - 0s 14us/step - loss: 4.5863e-05\n",
            "Epoch 134/400\n",
            "14400/14400 [==============================] - 0s 14us/step - loss: 4.5817e-05\n",
            "Epoch 135/400\n",
            "14400/14400 [==============================] - 0s 13us/step - loss: 4.5850e-05\n",
            "Epoch 136/400\n",
            "14400/14400 [==============================] - 0s 13us/step - loss: 4.5768e-05\n",
            "Epoch 137/400\n",
            "14400/14400 [==============================] - 0s 13us/step - loss: 4.5788e-05\n",
            "Epoch 138/400\n",
            "14400/14400 [==============================] - 0s 12us/step - loss: 4.5902e-05\n",
            "Epoch 139/400\n",
            "14400/14400 [==============================] - 0s 13us/step - loss: 4.6042e-05\n",
            "Epoch 140/400\n",
            "14400/14400 [==============================] - 0s 13us/step - loss: 4.6037e-05\n",
            "Epoch 141/400\n",
            "14400/14400 [==============================] - 0s 13us/step - loss: 4.5704e-05\n",
            "Epoch 142/400\n",
            "14400/14400 [==============================] - 0s 14us/step - loss: 4.5752e-05\n",
            "Epoch 143/400\n",
            "14400/14400 [==============================] - 0s 14us/step - loss: 4.5953e-05\n",
            "Epoch 144/400\n",
            "14400/14400 [==============================] - 0s 14us/step - loss: 4.5872e-05\n",
            "Epoch 145/400\n",
            "14400/14400 [==============================] - 0s 13us/step - loss: 4.5639e-05\n",
            "Epoch 146/400\n",
            "14400/14400 [==============================] - 0s 14us/step - loss: 4.5928e-05\n",
            "Epoch 147/400\n",
            "14400/14400 [==============================] - 0s 14us/step - loss: 4.5864e-05\n",
            "Epoch 148/400\n",
            "14400/14400 [==============================] - 0s 14us/step - loss: 4.5631e-05\n",
            "Epoch 149/400\n",
            "14400/14400 [==============================] - 0s 14us/step - loss: 4.5744e-05\n",
            "Epoch 150/400\n",
            "14400/14400 [==============================] - 0s 13us/step - loss: 4.5751e-05\n",
            "Epoch 151/400\n",
            "14400/14400 [==============================] - 0s 12us/step - loss: 4.5721e-05\n",
            "Epoch 152/400\n",
            "14400/14400 [==============================] - 0s 12us/step - loss: 4.5750e-05\n",
            "Epoch 153/400\n",
            "14400/14400 [==============================] - 0s 12us/step - loss: 4.5698e-05\n",
            "Epoch 154/400\n",
            "14400/14400 [==============================] - 0s 13us/step - loss: 4.5954e-05\n",
            "Epoch 155/400\n",
            "14400/14400 [==============================] - 0s 12us/step - loss: 4.5836e-05\n",
            "Epoch 156/400\n",
            "14400/14400 [==============================] - 0s 12us/step - loss: 4.5934e-05\n",
            "Epoch 157/400\n",
            "14400/14400 [==============================] - 0s 12us/step - loss: 4.5843e-05\n",
            "Epoch 158/400\n",
            "14400/14400 [==============================] - 0s 13us/step - loss: 4.5880e-05\n",
            "Epoch 159/400\n",
            "14400/14400 [==============================] - 0s 13us/step - loss: 4.5780e-05\n",
            "Epoch 160/400\n",
            "14400/14400 [==============================] - 0s 13us/step - loss: 4.5744e-05\n",
            "Epoch 161/400\n",
            "14400/14400 [==============================] - 0s 13us/step - loss: 4.5680e-05\n",
            "Epoch 162/400\n",
            "14400/14400 [==============================] - 0s 13us/step - loss: 4.5724e-05\n",
            "Epoch 163/400\n",
            "14400/14400 [==============================] - 0s 13us/step - loss: 4.5608e-05\n",
            "Epoch 164/400\n",
            "14400/14400 [==============================] - 0s 13us/step - loss: 4.5655e-05\n",
            "Epoch 165/400\n",
            "14400/14400 [==============================] - 0s 13us/step - loss: 4.5643e-05\n",
            "Epoch 166/400\n",
            "14400/14400 [==============================] - 0s 13us/step - loss: 4.5501e-05\n",
            "Epoch 167/400\n",
            "14400/14400 [==============================] - 0s 13us/step - loss: 4.5662e-05\n",
            "Epoch 168/400\n",
            "14400/14400 [==============================] - 0s 13us/step - loss: 4.5772e-05\n",
            "Epoch 169/400\n",
            "14400/14400 [==============================] - 0s 13us/step - loss: 4.5693e-05\n",
            "Epoch 170/400\n",
            "14400/14400 [==============================] - 0s 13us/step - loss: 4.5611e-05\n",
            "Epoch 171/400\n",
            "14400/14400 [==============================] - 0s 14us/step - loss: 4.5537e-05\n",
            "Epoch 172/400\n",
            "14400/14400 [==============================] - 0s 12us/step - loss: 4.5618e-05\n",
            "Epoch 173/400\n",
            "14400/14400 [==============================] - 0s 12us/step - loss: 4.5655e-05\n",
            "Epoch 174/400\n",
            "14400/14400 [==============================] - 0s 12us/step - loss: 4.5871e-05\n",
            "Epoch 175/400\n",
            "14400/14400 [==============================] - 0s 14us/step - loss: 4.5614e-05\n",
            "Epoch 176/400\n",
            "14400/14400 [==============================] - 0s 14us/step - loss: 4.5492e-05\n",
            "Epoch 177/400\n",
            "14400/14400 [==============================] - 0s 13us/step - loss: 4.5737e-05\n",
            "Epoch 178/400\n",
            "14400/14400 [==============================] - 0s 13us/step - loss: 4.5624e-05\n",
            "Epoch 179/400\n",
            "14400/14400 [==============================] - 0s 12us/step - loss: 4.5686e-05\n",
            "Epoch 180/400\n",
            "14400/14400 [==============================] - 0s 13us/step - loss: 4.5649e-05\n",
            "Epoch 181/400\n",
            "14400/14400 [==============================] - 0s 13us/step - loss: 4.5820e-05\n",
            "Epoch 182/400\n",
            "14400/14400 [==============================] - 0s 14us/step - loss: 4.5833e-05\n",
            "Epoch 183/400\n",
            "14400/14400 [==============================] - 0s 13us/step - loss: 4.5639e-05\n",
            "Epoch 184/400\n",
            "14400/14400 [==============================] - 0s 12us/step - loss: 4.5741e-05\n",
            "Epoch 185/400\n",
            "14400/14400 [==============================] - 0s 13us/step - loss: 4.5822e-05\n",
            "Epoch 186/400\n",
            "14400/14400 [==============================] - 0s 12us/step - loss: 4.5705e-05\n",
            "Epoch 187/400\n",
            "14400/14400 [==============================] - 0s 13us/step - loss: 4.5505e-05\n",
            "Epoch 188/400\n",
            "14400/14400 [==============================] - 0s 13us/step - loss: 4.5640e-05\n",
            "Epoch 189/400\n",
            "14400/14400 [==============================] - 0s 12us/step - loss: 4.5669e-05\n",
            "Epoch 190/400\n",
            "14400/14400 [==============================] - 0s 13us/step - loss: 4.5635e-05\n",
            "Epoch 191/400\n",
            "14400/14400 [==============================] - 0s 13us/step - loss: 4.5597e-05\n",
            "Epoch 192/400\n",
            "14400/14400 [==============================] - 0s 13us/step - loss: 4.5524e-05\n",
            "Epoch 193/400\n",
            "14400/14400 [==============================] - 0s 13us/step - loss: 4.5718e-05\n",
            "Epoch 194/400\n",
            "14400/14400 [==============================] - 0s 12us/step - loss: 4.5608e-05\n",
            "Epoch 195/400\n",
            "14400/14400 [==============================] - 0s 13us/step - loss: 4.5610e-05\n",
            "Epoch 196/400\n",
            "14400/14400 [==============================] - 0s 13us/step - loss: 4.5580e-05\n",
            "Epoch 197/400\n",
            "14400/14400 [==============================] - 0s 13us/step - loss: 4.5664e-05\n",
            "Epoch 198/400\n",
            "14400/14400 [==============================] - 0s 13us/step - loss: 4.5791e-05\n",
            "Epoch 199/400\n",
            "14400/14400 [==============================] - 0s 12us/step - loss: 4.5544e-05\n",
            "Epoch 200/400\n",
            "14400/14400 [==============================] - 0s 13us/step - loss: 4.5678e-05\n",
            "Epoch 201/400\n",
            "14400/14400 [==============================] - 0s 14us/step - loss: 4.5848e-05\n",
            "Epoch 202/400\n",
            "14400/14400 [==============================] - 0s 14us/step - loss: 4.5571e-05\n",
            "Epoch 203/400\n",
            "14400/14400 [==============================] - 0s 13us/step - loss: 4.5598e-05\n",
            "Epoch 204/400\n",
            "14400/14400 [==============================] - 0s 13us/step - loss: 4.5664e-05\n",
            "Epoch 205/400\n",
            "14400/14400 [==============================] - 0s 13us/step - loss: 4.5624e-05\n",
            "Epoch 206/400\n",
            "14400/14400 [==============================] - 0s 13us/step - loss: 4.5638e-05\n",
            "Epoch 207/400\n",
            "14400/14400 [==============================] - 0s 13us/step - loss: 4.5705e-05\n",
            "Epoch 208/400\n",
            "14400/14400 [==============================] - 0s 13us/step - loss: 4.5668e-05\n",
            "Epoch 209/400\n",
            "14400/14400 [==============================] - 0s 13us/step - loss: 4.5631e-05\n",
            "Epoch 210/400\n",
            "14400/14400 [==============================] - 0s 12us/step - loss: 4.5725e-05\n",
            "Epoch 211/400\n",
            "14400/14400 [==============================] - 0s 13us/step - loss: 4.5782e-05\n",
            "Epoch 212/400\n",
            "14400/14400 [==============================] - 0s 12us/step - loss: 4.5548e-05\n",
            "Epoch 213/400\n",
            "14400/14400 [==============================] - 0s 13us/step - loss: 4.5492e-05\n",
            "Epoch 214/400\n",
            "14400/14400 [==============================] - 0s 14us/step - loss: 4.5644e-05\n",
            "Epoch 215/400\n",
            "14400/14400 [==============================] - 0s 12us/step - loss: 4.5694e-05\n",
            "Epoch 216/400\n",
            "14400/14400 [==============================] - 0s 13us/step - loss: 4.5548e-05\n",
            "Epoch 217/400\n",
            "14400/14400 [==============================] - 0s 14us/step - loss: 4.5634e-05\n",
            "Epoch 218/400\n",
            "14400/14400 [==============================] - 0s 14us/step - loss: 4.5799e-05\n",
            "Epoch 219/400\n",
            "14400/14400 [==============================] - 0s 14us/step - loss: 4.5512e-05\n",
            "Epoch 220/400\n",
            "14400/14400 [==============================] - 0s 14us/step - loss: 4.5541e-05\n",
            "Epoch 221/400\n",
            "14400/14400 [==============================] - 0s 13us/step - loss: 4.5511e-05\n",
            "Epoch 222/400\n",
            "14400/14400 [==============================] - 0s 14us/step - loss: 4.5521e-05\n",
            "Epoch 223/400\n",
            "14400/14400 [==============================] - 0s 14us/step - loss: 4.5546e-05\n",
            "Epoch 224/400\n",
            "14400/14400 [==============================] - 0s 13us/step - loss: 4.5541e-05\n",
            "Epoch 225/400\n",
            "14400/14400 [==============================] - 0s 13us/step - loss: 4.5631e-05\n",
            "Epoch 226/400\n",
            "14400/14400 [==============================] - 0s 13us/step - loss: 4.5785e-05\n",
            "Epoch 227/400\n",
            "14400/14400 [==============================] - 0s 13us/step - loss: 4.5719e-05\n",
            "Epoch 228/400\n",
            "14400/14400 [==============================] - 0s 13us/step - loss: 4.5481e-05\n",
            "Epoch 229/400\n",
            "14400/14400 [==============================] - 0s 13us/step - loss: 4.5607e-05\n",
            "Epoch 230/400\n",
            "14400/14400 [==============================] - 0s 14us/step - loss: 4.5680e-05\n",
            "Epoch 231/400\n",
            "14400/14400 [==============================] - 0s 13us/step - loss: 4.5583e-05\n",
            "Epoch 232/400\n",
            "14400/14400 [==============================] - 0s 13us/step - loss: 4.5469e-05\n",
            "Epoch 233/400\n",
            "14400/14400 [==============================] - 0s 13us/step - loss: 4.5563e-05\n",
            "Epoch 234/400\n",
            "14400/14400 [==============================] - 0s 13us/step - loss: 4.5505e-05\n",
            "Epoch 235/400\n",
            "14400/14400 [==============================] - 0s 13us/step - loss: 4.5638e-05\n",
            "Epoch 236/400\n",
            "14400/14400 [==============================] - 0s 12us/step - loss: 4.5635e-05\n",
            "Epoch 237/400\n",
            "14400/14400 [==============================] - 0s 13us/step - loss: 4.5637e-05\n",
            "Epoch 238/400\n",
            "14400/14400 [==============================] - 0s 12us/step - loss: 4.5650e-05\n",
            "Epoch 239/400\n",
            "14400/14400 [==============================] - 0s 12us/step - loss: 4.5634e-05\n",
            "Epoch 240/400\n",
            "14400/14400 [==============================] - 0s 12us/step - loss: 4.5739e-05\n",
            "Epoch 241/400\n",
            "14400/14400 [==============================] - 0s 14us/step - loss: 4.5664e-05\n",
            "Epoch 242/400\n",
            "14400/14400 [==============================] - 0s 13us/step - loss: 4.5586e-05\n",
            "Epoch 243/400\n",
            "14400/14400 [==============================] - 0s 13us/step - loss: 4.5598e-05\n",
            "Epoch 244/400\n",
            "14400/14400 [==============================] - 0s 12us/step - loss: 4.5664e-05\n",
            "Epoch 245/400\n",
            "14400/14400 [==============================] - 0s 13us/step - loss: 4.5772e-05\n",
            "Epoch 246/400\n",
            "14400/14400 [==============================] - 0s 13us/step - loss: 4.5608e-05\n",
            "Epoch 247/400\n",
            "14400/14400 [==============================] - 0s 12us/step - loss: 4.5639e-05\n",
            "Epoch 248/400\n",
            "14400/14400 [==============================] - 0s 13us/step - loss: 4.5457e-05\n",
            "Epoch 249/400\n",
            "14400/14400 [==============================] - 0s 12us/step - loss: 4.5553e-05\n",
            "Epoch 250/400\n",
            "14400/14400 [==============================] - 0s 13us/step - loss: 4.5395e-05\n",
            "Epoch 251/400\n",
            "14400/14400 [==============================] - 0s 13us/step - loss: 4.5528e-05\n",
            "Epoch 252/400\n",
            "14400/14400 [==============================] - 0s 13us/step - loss: 4.5451e-05\n",
            "Epoch 253/400\n",
            "14400/14400 [==============================] - 0s 13us/step - loss: 4.5518e-05\n",
            "Epoch 254/400\n",
            "14400/14400 [==============================] - 0s 12us/step - loss: 4.5532e-05\n",
            "Epoch 255/400\n",
            "14400/14400 [==============================] - 0s 13us/step - loss: 4.5585e-05\n",
            "Epoch 256/400\n",
            "14400/14400 [==============================] - 0s 12us/step - loss: 4.5625e-05\n",
            "Epoch 257/400\n",
            "14400/14400 [==============================] - 0s 13us/step - loss: 4.5684e-05\n",
            "Epoch 258/400\n",
            "14400/14400 [==============================] - 0s 13us/step - loss: 4.5711e-05\n",
            "Epoch 259/400\n",
            "14400/14400 [==============================] - 0s 12us/step - loss: 4.5581e-05\n",
            "Epoch 260/400\n",
            "14400/14400 [==============================] - 0s 12us/step - loss: 4.5572e-05\n",
            "Epoch 261/400\n",
            "14400/14400 [==============================] - 0s 12us/step - loss: 4.5649e-05\n",
            "Epoch 262/400\n",
            "14400/14400 [==============================] - 0s 14us/step - loss: 4.5552e-05\n",
            "Epoch 263/400\n",
            "14400/14400 [==============================] - 0s 14us/step - loss: 4.5449e-05\n",
            "Epoch 264/400\n",
            "14400/14400 [==============================] - 0s 13us/step - loss: 4.5629e-05\n",
            "Epoch 265/400\n",
            "14400/14400 [==============================] - 0s 12us/step - loss: 4.5614e-05\n",
            "Epoch 266/400\n",
            "14400/14400 [==============================] - 0s 13us/step - loss: 4.5531e-05\n",
            "Epoch 267/400\n",
            "14400/14400 [==============================] - 0s 13us/step - loss: 4.5508e-05\n",
            "Epoch 268/400\n",
            "14400/14400 [==============================] - 0s 13us/step - loss: 4.5534e-05\n",
            "Epoch 269/400\n",
            "14400/14400 [==============================] - 0s 12us/step - loss: 4.5699e-05\n",
            "Epoch 270/400\n",
            "14400/14400 [==============================] - 0s 14us/step - loss: 4.5632e-05\n",
            "Epoch 271/400\n",
            "14400/14400 [==============================] - 0s 14us/step - loss: 4.5595e-05\n",
            "Epoch 272/400\n",
            "14400/14400 [==============================] - 0s 13us/step - loss: 4.5598e-05\n",
            "Epoch 273/400\n",
            "14400/14400 [==============================] - 0s 13us/step - loss: 4.5495e-05\n",
            "Epoch 274/400\n",
            "14400/14400 [==============================] - 0s 13us/step - loss: 4.5619e-05\n",
            "Epoch 275/400\n",
            "14400/14400 [==============================] - 0s 13us/step - loss: 4.5529e-05\n",
            "Epoch 276/400\n",
            "14400/14400 [==============================] - 0s 13us/step - loss: 4.5495e-05\n",
            "Epoch 277/400\n",
            "14400/14400 [==============================] - 0s 12us/step - loss: 4.5537e-05\n",
            "Epoch 278/400\n",
            "14400/14400 [==============================] - 0s 14us/step - loss: 4.5447e-05\n",
            "Epoch 279/400\n",
            "14400/14400 [==============================] - 0s 13us/step - loss: 4.5634e-05\n",
            "Epoch 280/400\n",
            "14400/14400 [==============================] - 0s 12us/step - loss: 4.5658e-05\n",
            "Epoch 281/400\n",
            "14400/14400 [==============================] - 0s 13us/step - loss: 4.5560e-05\n",
            "Epoch 282/400\n",
            "14400/14400 [==============================] - 0s 13us/step - loss: 4.5472e-05\n",
            "Epoch 283/400\n",
            "14400/14400 [==============================] - 0s 13us/step - loss: 4.5625e-05\n",
            "Epoch 284/400\n",
            "14400/14400 [==============================] - 0s 13us/step - loss: 4.5516e-05\n",
            "Epoch 285/400\n",
            "14400/14400 [==============================] - 0s 13us/step - loss: 4.5642e-05\n",
            "Epoch 286/400\n",
            "14400/14400 [==============================] - 0s 13us/step - loss: 4.5667e-05\n",
            "Epoch 287/400\n",
            "14400/14400 [==============================] - 0s 12us/step - loss: 4.5872e-05\n",
            "Epoch 288/400\n",
            "14400/14400 [==============================] - 0s 12us/step - loss: 4.5492e-05\n",
            "Epoch 289/400\n",
            "14400/14400 [==============================] - 0s 13us/step - loss: 4.5501e-05\n",
            "Epoch 290/400\n",
            "14400/14400 [==============================] - 0s 14us/step - loss: 4.5745e-05\n",
            "Epoch 291/400\n",
            "14400/14400 [==============================] - 0s 13us/step - loss: 4.5604e-05\n",
            "Epoch 292/400\n",
            "14400/14400 [==============================] - 0s 12us/step - loss: 4.5498e-05\n",
            "Epoch 293/400\n",
            "14400/14400 [==============================] - 0s 12us/step - loss: 4.5524e-05\n",
            "Epoch 294/400\n",
            "14400/14400 [==============================] - 0s 12us/step - loss: 4.5654e-05\n",
            "Epoch 295/400\n",
            "14400/14400 [==============================] - 0s 13us/step - loss: 4.5577e-05\n",
            "Epoch 296/400\n",
            "14400/14400 [==============================] - 0s 13us/step - loss: 4.5513e-05\n",
            "Epoch 297/400\n",
            "14400/14400 [==============================] - 0s 13us/step - loss: 4.5596e-05\n",
            "Epoch 298/400\n",
            "14400/14400 [==============================] - 0s 13us/step - loss: 4.5734e-05\n",
            "Epoch 299/400\n",
            "14400/14400 [==============================] - 0s 13us/step - loss: 4.5587e-05\n",
            "Epoch 300/400\n",
            "14400/14400 [==============================] - 0s 12us/step - loss: 4.5511e-05\n",
            "Epoch 301/400\n",
            "14400/14400 [==============================] - 0s 13us/step - loss: 4.5495e-05\n",
            "Epoch 302/400\n",
            "14400/14400 [==============================] - 0s 12us/step - loss: 4.5588e-05\n",
            "Epoch 303/400\n",
            "14400/14400 [==============================] - 0s 12us/step - loss: 4.5662e-05\n",
            "Epoch 304/400\n",
            "14400/14400 [==============================] - 0s 12us/step - loss: 4.5755e-05\n",
            "Epoch 305/400\n",
            "14400/14400 [==============================] - 0s 13us/step - loss: 4.5529e-05\n",
            "Epoch 306/400\n",
            "14400/14400 [==============================] - 0s 12us/step - loss: 4.5639e-05\n",
            "Epoch 307/400\n",
            "14400/14400 [==============================] - 0s 13us/step - loss: 4.5535e-05\n",
            "Epoch 308/400\n",
            "14400/14400 [==============================] - 0s 12us/step - loss: 4.5547e-05\n",
            "Epoch 309/400\n",
            "14400/14400 [==============================] - 0s 13us/step - loss: 4.5538e-05\n",
            "Epoch 310/400\n",
            "14400/14400 [==============================] - 0s 12us/step - loss: 4.5538e-05\n",
            "Epoch 311/400\n",
            "14400/14400 [==============================] - 0s 12us/step - loss: 4.5637e-05\n",
            "Epoch 312/400\n",
            "14400/14400 [==============================] - 0s 13us/step - loss: 4.5670e-05\n",
            "Epoch 313/400\n",
            "14400/14400 [==============================] - 0s 12us/step - loss: 4.5453e-05\n",
            "Epoch 314/400\n",
            "14400/14400 [==============================] - 0s 12us/step - loss: 4.5675e-05\n",
            "Epoch 315/400\n",
            "14400/14400 [==============================] - 0s 12us/step - loss: 4.5563e-05\n",
            "Epoch 316/400\n",
            "14400/14400 [==============================] - 0s 12us/step - loss: 4.5475e-05\n",
            "Epoch 317/400\n",
            "14400/14400 [==============================] - 0s 12us/step - loss: 4.5517e-05\n",
            "Epoch 318/400\n",
            "14400/14400 [==============================] - 0s 13us/step - loss: 4.5548e-05\n",
            "Epoch 319/400\n",
            "14400/14400 [==============================] - 0s 13us/step - loss: 4.5593e-05\n",
            "Epoch 320/400\n",
            "14400/14400 [==============================] - 0s 12us/step - loss: 4.5577e-05\n",
            "Epoch 321/400\n",
            "14400/14400 [==============================] - 0s 13us/step - loss: 4.5505e-05\n",
            "Epoch 322/400\n",
            "14400/14400 [==============================] - 0s 12us/step - loss: 4.5690e-05\n",
            "Epoch 323/400\n",
            "14400/14400 [==============================] - 0s 12us/step - loss: 4.5593e-05\n",
            "Epoch 324/400\n",
            "14400/14400 [==============================] - 0s 13us/step - loss: 4.5719e-05\n",
            "Epoch 325/400\n",
            "14400/14400 [==============================] - 0s 12us/step - loss: 4.5524e-05\n",
            "Epoch 326/400\n",
            "14400/14400 [==============================] - 0s 12us/step - loss: 4.5632e-05\n",
            "Epoch 327/400\n",
            "14400/14400 [==============================] - 0s 12us/step - loss: 4.5504e-05\n",
            "Epoch 328/400\n",
            "14400/14400 [==============================] - 0s 12us/step - loss: 4.5511e-05\n",
            "Epoch 329/400\n",
            "14400/14400 [==============================] - 0s 13us/step - loss: 4.5484e-05\n",
            "Epoch 330/400\n",
            "14400/14400 [==============================] - 0s 13us/step - loss: 4.5370e-05\n",
            "Epoch 331/400\n",
            "14400/14400 [==============================] - 0s 12us/step - loss: 4.5467e-05\n",
            "Epoch 332/400\n",
            "14400/14400 [==============================] - 0s 12us/step - loss: 4.5608e-05\n",
            "Epoch 333/400\n",
            "14400/14400 [==============================] - 0s 12us/step - loss: 4.5584e-05\n",
            "Epoch 334/400\n",
            "14400/14400 [==============================] - 0s 12us/step - loss: 4.5553e-05\n",
            "Epoch 335/400\n",
            "14400/14400 [==============================] - 0s 13us/step - loss: 4.5522e-05\n",
            "Epoch 336/400\n",
            "14400/14400 [==============================] - 0s 12us/step - loss: 4.5519e-05\n",
            "Epoch 337/400\n",
            "14400/14400 [==============================] - 0s 13us/step - loss: 4.5497e-05\n",
            "Epoch 338/400\n",
            "14400/14400 [==============================] - 0s 13us/step - loss: 4.5663e-05\n",
            "Epoch 339/400\n",
            "14400/14400 [==============================] - 0s 13us/step - loss: 4.5527e-05\n",
            "Epoch 340/400\n",
            "14400/14400 [==============================] - 0s 13us/step - loss: 4.5661e-05\n",
            "Epoch 341/400\n",
            "14400/14400 [==============================] - 0s 13us/step - loss: 4.5454e-05\n",
            "Epoch 342/400\n",
            "14400/14400 [==============================] - 0s 15us/step - loss: 4.5594e-05\n",
            "Epoch 343/400\n",
            "14400/14400 [==============================] - 0s 13us/step - loss: 4.5699e-05\n",
            "Epoch 344/400\n",
            "14400/14400 [==============================] - 0s 13us/step - loss: 4.5625e-05\n",
            "Epoch 345/400\n",
            "14400/14400 [==============================] - 0s 13us/step - loss: 4.5576e-05\n",
            "Epoch 346/400\n",
            "14400/14400 [==============================] - 0s 13us/step - loss: 4.5617e-05\n",
            "Epoch 347/400\n",
            "14400/14400 [==============================] - 0s 13us/step - loss: 4.5578e-05\n",
            "Epoch 348/400\n",
            "14400/14400 [==============================] - 0s 13us/step - loss: 4.5622e-05\n",
            "Epoch 349/400\n",
            "14400/14400 [==============================] - 0s 12us/step - loss: 4.5552e-05\n",
            "Epoch 350/400\n",
            "14400/14400 [==============================] - 0s 13us/step - loss: 4.5712e-05\n",
            "Epoch 351/400\n",
            "14400/14400 [==============================] - 0s 14us/step - loss: 4.5604e-05\n",
            "Epoch 352/400\n",
            "14400/14400 [==============================] - 0s 13us/step - loss: 4.5677e-05\n",
            "Epoch 353/400\n",
            "14400/14400 [==============================] - 0s 14us/step - loss: 4.5575e-05\n",
            "Epoch 354/400\n",
            "14400/14400 [==============================] - 0s 13us/step - loss: 4.5452e-05\n",
            "Epoch 355/400\n",
            "14400/14400 [==============================] - 0s 12us/step - loss: 4.5525e-05\n",
            "Epoch 356/400\n",
            "14400/14400 [==============================] - 0s 12us/step - loss: 4.5411e-05\n",
            "Epoch 357/400\n",
            "14400/14400 [==============================] - 0s 14us/step - loss: 4.5416e-05\n",
            "Epoch 358/400\n",
            "14400/14400 [==============================] - 0s 14us/step - loss: 4.5535e-05\n",
            "Epoch 359/400\n",
            "14400/14400 [==============================] - 0s 13us/step - loss: 4.5363e-05\n",
            "Epoch 360/400\n",
            "14400/14400 [==============================] - 0s 13us/step - loss: 4.5647e-05\n",
            "Epoch 361/400\n",
            "14400/14400 [==============================] - 0s 14us/step - loss: 4.5404e-05\n",
            "Epoch 362/400\n",
            "14400/14400 [==============================] - 0s 14us/step - loss: 4.5582e-05\n",
            "Epoch 363/400\n",
            "14400/14400 [==============================] - 0s 14us/step - loss: 4.5596e-05\n",
            "Epoch 364/400\n",
            "14400/14400 [==============================] - 0s 13us/step - loss: 4.5450e-05\n",
            "Epoch 365/400\n",
            "14400/14400 [==============================] - 0s 12us/step - loss: 4.5498e-05\n",
            "Epoch 366/400\n",
            "14400/14400 [==============================] - 0s 13us/step - loss: 4.5454e-05\n",
            "Epoch 367/400\n",
            "14400/14400 [==============================] - 0s 14us/step - loss: 4.5405e-05\n",
            "Epoch 368/400\n",
            "14400/14400 [==============================] - 0s 14us/step - loss: 4.5521e-05\n",
            "Epoch 369/400\n",
            "14400/14400 [==============================] - 0s 14us/step - loss: 4.5519e-05\n",
            "Epoch 370/400\n",
            "14400/14400 [==============================] - 0s 13us/step - loss: 4.5574e-05\n",
            "Epoch 371/400\n",
            "14400/14400 [==============================] - 0s 13us/step - loss: 4.5565e-05\n",
            "Epoch 372/400\n",
            "14400/14400 [==============================] - 0s 13us/step - loss: 4.5746e-05\n",
            "Epoch 373/400\n",
            "14400/14400 [==============================] - 0s 13us/step - loss: 4.5511e-05\n",
            "Epoch 374/400\n",
            "14400/14400 [==============================] - 0s 13us/step - loss: 4.5601e-05\n",
            "Epoch 375/400\n",
            "14400/14400 [==============================] - 0s 13us/step - loss: 4.5638e-05\n",
            "Epoch 376/400\n",
            "14400/14400 [==============================] - 0s 12us/step - loss: 4.5422e-05\n",
            "Epoch 377/400\n",
            "14400/14400 [==============================] - 0s 13us/step - loss: 4.5489e-05\n",
            "Epoch 378/400\n",
            "14400/14400 [==============================] - 0s 14us/step - loss: 4.5497e-05\n",
            "Epoch 379/400\n",
            "14400/14400 [==============================] - 0s 14us/step - loss: 4.5478e-05\n",
            "Epoch 380/400\n",
            "14400/14400 [==============================] - 0s 14us/step - loss: 4.5681e-05\n",
            "Epoch 381/400\n",
            "14400/14400 [==============================] - 0s 13us/step - loss: 4.5429e-05\n",
            "Epoch 382/400\n",
            "14400/14400 [==============================] - 0s 12us/step - loss: 4.5598e-05\n",
            "Epoch 383/400\n",
            "14400/14400 [==============================] - 0s 13us/step - loss: 4.5474e-05\n",
            "Epoch 384/400\n",
            "14400/14400 [==============================] - 0s 13us/step - loss: 4.5545e-05\n",
            "Epoch 385/400\n",
            "14400/14400 [==============================] - 0s 13us/step - loss: 4.5533e-05\n",
            "Epoch 386/400\n",
            "14400/14400 [==============================] - 0s 13us/step - loss: 4.5581e-05\n",
            "Epoch 387/400\n",
            "14400/14400 [==============================] - 0s 13us/step - loss: 4.5538e-05\n",
            "Epoch 388/400\n",
            "14400/14400 [==============================] - 0s 13us/step - loss: 4.5459e-05\n",
            "Epoch 389/400\n",
            "14400/14400 [==============================] - 0s 14us/step - loss: 4.5593e-05\n",
            "Epoch 390/400\n",
            "14400/14400 [==============================] - 0s 14us/step - loss: 4.5482e-05\n",
            "Epoch 391/400\n",
            "14400/14400 [==============================] - 0s 12us/step - loss: 4.5445e-05\n",
            "Epoch 392/400\n",
            "14400/14400 [==============================] - 0s 13us/step - loss: 4.5450e-05\n",
            "Epoch 393/400\n",
            "14400/14400 [==============================] - 0s 13us/step - loss: 4.5517e-05\n",
            "Epoch 394/400\n",
            "14400/14400 [==============================] - 0s 13us/step - loss: 4.5511e-05\n",
            "Epoch 395/400\n",
            "14400/14400 [==============================] - 0s 13us/step - loss: 4.5540e-05\n",
            "Epoch 396/400\n",
            "14400/14400 [==============================] - 0s 13us/step - loss: 4.5427e-05\n",
            "Epoch 397/400\n",
            "14400/14400 [==============================] - 0s 14us/step - loss: 4.5465e-05\n",
            "Epoch 398/400\n",
            "14400/14400 [==============================] - 0s 13us/step - loss: 4.5531e-05\n",
            "Epoch 399/400\n",
            "14400/14400 [==============================] - 0s 13us/step - loss: 4.5590e-05\n",
            "Epoch 400/400\n",
            "14400/14400 [==============================] - 0s 12us/step - loss: 4.5546e-05\n"
          ],
          "name": "stdout"
        },
        {
          "output_type": "execute_result",
          "data": {
            "text/plain": [
              "<keras.callbacks.callbacks.History at 0x7faf18cc5f98>"
            ]
          },
          "metadata": {
            "tags": []
          },
          "execution_count": 24
        }
      ]
    },
    {
      "cell_type": "code",
      "metadata": {
        "id": "NYpupLEuzo3G",
        "colab_type": "code",
        "outputId": "548e6fd3-d0d9-476b-89c5-f237ff4baa2d",
        "colab": {
          "base_uri": "https://localhost:8080/",
          "height": 1000
        }
      },
      "source": [
        "x_test = np.reshape(x_test,(-1,1,4))\n",
        "y_predicted = []\n",
        "y_predicted = regressor.predict(x_test, batch_size=400)\n",
        "predicted = pd.DataFrame(np.reshape(y_predicted,(400,4)))\n",
        "predicted.iloc[:,[0,3]].plot()\n",
        "predicted.iloc[:,1:3].plot()\n",
        "pd.DataFrame(np.reshape(x_test,(400,4))).iloc[:,1:3].plot()\n",
        "predicted.iloc[:,1:4]"
      ],
      "execution_count": 0,
      "outputs": [
        {
          "output_type": "execute_result",
          "data": {
            "text/html": [
              "<div>\n",
              "<style scoped>\n",
              "    .dataframe tbody tr th:only-of-type {\n",
              "        vertical-align: middle;\n",
              "    }\n",
              "\n",
              "    .dataframe tbody tr th {\n",
              "        vertical-align: top;\n",
              "    }\n",
              "\n",
              "    .dataframe thead th {\n",
              "        text-align: right;\n",
              "    }\n",
              "</style>\n",
              "<table border=\"1\" class=\"dataframe\">\n",
              "  <thead>\n",
              "    <tr style=\"text-align: right;\">\n",
              "      <th></th>\n",
              "      <th>1</th>\n",
              "      <th>2</th>\n",
              "      <th>3</th>\n",
              "    </tr>\n",
              "  </thead>\n",
              "  <tbody>\n",
              "    <tr>\n",
              "      <th>0</th>\n",
              "      <td>0.005474</td>\n",
              "      <td>-0.006204</td>\n",
              "      <td>-0.000234</td>\n",
              "    </tr>\n",
              "    <tr>\n",
              "      <th>1</th>\n",
              "      <td>0.005033</td>\n",
              "      <td>-0.005753</td>\n",
              "      <td>-0.000283</td>\n",
              "    </tr>\n",
              "    <tr>\n",
              "      <th>2</th>\n",
              "      <td>0.003750</td>\n",
              "      <td>-0.004492</td>\n",
              "      <td>-0.000407</td>\n",
              "    </tr>\n",
              "    <tr>\n",
              "      <th>3</th>\n",
              "      <td>0.005296</td>\n",
              "      <td>-0.006005</td>\n",
              "      <td>-0.000247</td>\n",
              "    </tr>\n",
              "    <tr>\n",
              "      <th>4</th>\n",
              "      <td>0.004158</td>\n",
              "      <td>-0.004972</td>\n",
              "      <td>-0.000409</td>\n",
              "    </tr>\n",
              "    <tr>\n",
              "      <th>...</th>\n",
              "      <td>...</td>\n",
              "      <td>...</td>\n",
              "      <td>...</td>\n",
              "    </tr>\n",
              "    <tr>\n",
              "      <th>395</th>\n",
              "      <td>0.011474</td>\n",
              "      <td>-0.012298</td>\n",
              "      <td>0.000332</td>\n",
              "    </tr>\n",
              "    <tr>\n",
              "      <th>396</th>\n",
              "      <td>0.012896</td>\n",
              "      <td>-0.013754</td>\n",
              "      <td>0.000494</td>\n",
              "    </tr>\n",
              "    <tr>\n",
              "      <th>397</th>\n",
              "      <td>0.011659</td>\n",
              "      <td>-0.012426</td>\n",
              "      <td>0.000405</td>\n",
              "    </tr>\n",
              "    <tr>\n",
              "      <th>398</th>\n",
              "      <td>0.013888</td>\n",
              "      <td>-0.014755</td>\n",
              "      <td>0.000612</td>\n",
              "    </tr>\n",
              "    <tr>\n",
              "      <th>399</th>\n",
              "      <td>0.012155</td>\n",
              "      <td>-0.013039</td>\n",
              "      <td>0.000380</td>\n",
              "    </tr>\n",
              "  </tbody>\n",
              "</table>\n",
              "<p>400 rows × 3 columns</p>\n",
              "</div>"
            ],
            "text/plain": [
              "            1         2         3\n",
              "0    0.005474 -0.006204 -0.000234\n",
              "1    0.005033 -0.005753 -0.000283\n",
              "2    0.003750 -0.004492 -0.000407\n",
              "3    0.005296 -0.006005 -0.000247\n",
              "4    0.004158 -0.004972 -0.000409\n",
              "..        ...       ...       ...\n",
              "395  0.011474 -0.012298  0.000332\n",
              "396  0.012896 -0.013754  0.000494\n",
              "397  0.011659 -0.012426  0.000405\n",
              "398  0.013888 -0.014755  0.000612\n",
              "399  0.012155 -0.013039  0.000380\n",
              "\n",
              "[400 rows x 3 columns]"
            ]
          },
          "metadata": {
            "tags": []
          },
          "execution_count": 25
        },
        {
          "output_type": "display_data",
          "data": {
            "image/png": "[encoded data removed]",
            "text/plain": [
              "<Figure size 432x288 with 1 Axes>"
            ]
          },
          "metadata": {
            "tags": [],
            "needs_background": "light"
          }
        },
        {
          "output_type": "display_data",
          "data": {
            "image/png": "[encoded data removed]",
            "text/plain": [
              "<Figure size 432x288 with 1 Axes>"
            ]
          },
          "metadata": {
            "tags": [],
            "needs_background": "light"
          }
        },
        {
          "output_type": "display_data",
          "data": {
            "image/png": "[encoded data removed]",
            "text/plain": [
              "<Figure size 432x288 with 1 Axes>"
            ]
          },
          "metadata": {
            "tags": [],
            "needs_background": "light"
          }
        }
      ]
    },
    {
      "cell_type": "code",
      "metadata": {
        "id": "pmC9H6cCifYJ",
        "colab_type": "code",
        "colab": {}
      },
      "source": [
        "import torch\n",
        "import torch.nn as nn\n",
        "import torch.distributions as d"
      ],
      "execution_count": 0,
      "outputs": []
    },
    {
      "cell_type": "code",
      "metadata": {
        "id": "D5koEPkaU1_l",
        "colab_type": "code",
        "colab": {}
      },
      "source": [
        "class Model(nn.Module):\n",
        "  def __init__(self, input_size, output_size):\n",
        "    super(Model, self).__init__()\n",
        "    self.lstm0 = nn.LSTMCell(4,64)\n",
        "    self.lstm1 = nn.LSTMCell(64,64)\n",
        "    self.linear = nn.Linear(64, output_size=4)\n",
        "  def forward(self, input, hidden):\n",
        "    output, hidden = self.lstm0(input,hidden)\n",
        "    output, hidden = self.lstm1(output, hidden)\n",
        "    output = self.linear(output)\n",
        "    return output"
      ],
      "execution_count": 0,
      "outputs": []
    },
    {
      "cell_type": "code",
      "metadata": {
        "id": "z-TmAZkd_DNR",
        "colab_type": "code",
        "outputId": "1fcc1f62-2c42-4a0d-8f12-0a1442bc03d5",
        "colab": {
          "base_uri": "https://localhost:8080/",
          "height": 35
        }
      },
      "source": [
        "m = d.MultivariateNormal(torch.zeros(3), torch.eye(3))\n",
        "m.sample()"
      ],
      "execution_count": 0,
      "outputs": [
        {
          "output_type": "execute_result",
          "data": {
            "text/plain": [
              "tensor([-0.7860, -0.7163, -1.5673])"
            ]
          },
          "metadata": {
            "tags": []
          },
          "execution_count": 6
        }
      ]
    },
    {
      "cell_type": "code",
      "metadata": {
        "id": "o7LSQvHBc4Ef",
        "colab_type": "code",
        "outputId": "182d23ff-71e6-494a-8099-a174d6f1618e",
        "colab": {
          "base_uri": "https://localhost:8080/",
          "height": 35
        }
      },
      "source": [
        "m.sample()"
      ],
      "execution_count": 0,
      "outputs": [
        {
          "output_type": "execute_result",
          "data": {
            "text/plain": [
              "tensor([-1.0303, -0.7441, -0.0769])"
            ]
          },
          "metadata": {
            "tags": []
          },
          "execution_count": 10
        }
      ]
    }
  ]
}